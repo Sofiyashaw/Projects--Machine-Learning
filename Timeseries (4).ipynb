{
  "nbformat": 4,
  "nbformat_minor": 0,
  "metadata": {
    "colab": {
      "provenance": []
    },
    "kernelspec": {
      "name": "python3",
      "display_name": "Python 3"
    },
    "language_info": {
      "name": "python"
    }
  },
  "cells": [
    {
      "cell_type": "markdown",
      "source": [
        "#\n",
        "1. Load the data and libraries\n",
        "2. EDA\n",
        "3. Data Preparation\n",
        "4. Time Series Decomposition\n",
        "    1.Trend Component\n",
        "    2.Seasonal Component\n",
        "    3.Irregular Component\n",
        "5.Check for stationarity (Augmented Dicky Fuller Test)\n",
        "6. Moving Average\n",
        "7.Exponential Smoothing Heat and Waves\n",
        "8.Arima,Arima and Prophet\n",
        "\n",
        "\n"
      ],
      "metadata": {
        "id": "9jwQh0BFfsuN"
      }
    },
    {
      "cell_type": "markdown",
      "source": [
        "# Import the libraries"
      ],
      "metadata": {
        "id": "RfDMpc6Hgqlo"
      }
    },
    {
      "cell_type": "code",
      "source": [
        "!unzip '/content/165899276823660ec2379f8793842aa5b168a_ (1).zip'"
      ],
      "metadata": {
        "colab": {
          "base_uri": "https://localhost:8080/"
        },
        "id": "kX6mlqUxlrG1",
        "outputId": "a64c36b8-c5ea-436e-ba4c-17fd5898b89b"
      },
      "execution_count": null,
      "outputs": [
        {
          "output_type": "stream",
          "name": "stdout",
          "text": [
            "unzip:  cannot find or open /content/165899276823660ec2379f8793842aa5b168a_ (1).zip, /content/165899276823660ec2379f8793842aa5b168a_ (1).zip.zip or /content/165899276823660ec2379f8793842aa5b168a_ (1).zip.ZIP.\n"
          ]
        }
      ]
    },
    {
      "cell_type": "code",
      "source": [],
      "metadata": {
        "id": "eJLH77Dn21t3"
      },
      "execution_count": null,
      "outputs": []
    },
    {
      "cell_type": "code",
      "source": [
        "import pandas as pd\n",
        "import numpy as np\n",
        "import seaborn as sns\n",
        "import matplotlib.pyplot as plt\n",
        "from statsmodels.tsa.stattools import adfuller\n",
        "from statsmodels.tsa.seasonal import seasonal_decompose\n"
      ],
      "metadata": {
        "id": "gQAKSVH_gwK6"
      },
      "execution_count": null,
      "outputs": []
    },
    {
      "cell_type": "code",
      "source": [
        "data = pd.read_csv('/content/Super_Store.csv',encoding = 'cp1252')"
      ],
      "metadata": {
        "id": "oXzY7-uRlTwX"
      },
      "execution_count": null,
      "outputs": []
    },
    {
      "cell_type": "markdown",
      "source": [],
      "metadata": {
        "id": "CCTyPj9y-3NZ"
      }
    },
    {
      "cell_type": "code",
      "source": [
        "data.head()"
      ],
      "metadata": {
        "colab": {
          "base_uri": "https://localhost:8080/",
          "height": 602
        },
        "id": "wEFtYPBymIK9",
        "outputId": "b4b491d5-7003-45cd-fb24-403b51df5a9d"
      },
      "execution_count": null,
      "outputs": [
        {
          "output_type": "execute_result",
          "data": {
            "text/plain": [
              "   Row ID        Order ID  Order Date   Ship Date       Ship Mode Customer ID  \\\n",
              "0       1  CA-2016-152156   11/8/2016  11/11/2016    Second Class    CG-12520   \n",
              "1       2  CA-2016-152156   11/8/2016  11/11/2016    Second Class    CG-12520   \n",
              "2       4  US-2015-108966  10/11/2015  10/18/2015  Standard Class    SO-20335   \n",
              "3       6  CA-2014-115812    6/9/2014   6/14/2014  Standard Class    BH-11710   \n",
              "4      11  CA-2014-115812    6/9/2014   6/14/2014  Standard Class    BH-11710   \n",
              "\n",
              "     Customer Name   Segment        Country             City  ... Postal Code  \\\n",
              "0      Claire Gute  Consumer  United States        Henderson  ...       42420   \n",
              "1      Claire Gute  Consumer  United States        Henderson  ...       42420   \n",
              "2   Sean O'Donnell  Consumer  United States  Fort Lauderdale  ...       33311   \n",
              "3  Brosina Hoffman  Consumer  United States      Los Angeles  ...       90032   \n",
              "4  Brosina Hoffman  Consumer  United States      Los Angeles  ...       90032   \n",
              "\n",
              "   Region       Product ID   Category Sub-Category  \\\n",
              "0   South  FUR-BO-10001798  Furniture    Bookcases   \n",
              "1   South  FUR-CH-10000454  Furniture       Chairs   \n",
              "2   South  FUR-TA-10000577  Furniture       Tables   \n",
              "3    West  FUR-FU-10001487  Furniture  Furnishings   \n",
              "4    West  FUR-TA-10001539  Furniture       Tables   \n",
              "\n",
              "                                        Product Name      Sales  Quantity  \\\n",
              "0                  Bush Somerset Collection Bookcase   261.9600         2   \n",
              "1  Hon Deluxe Fabric Upholstered Stacking Chairs,...   731.9400         3   \n",
              "2      Bretford CR4500 Series Slim Rectangular Table   957.5775         5   \n",
              "3  Eldon Expressions Wood and Plastic Desk Access...    48.8600         7   \n",
              "4           Chromcraft Rectangular Conference Tables  1706.1840         9   \n",
              "\n",
              "   Discount    Profit  \n",
              "0      0.00   41.9136  \n",
              "1      0.00  219.5820  \n",
              "2      0.45 -383.0310  \n",
              "3      0.00   14.1694  \n",
              "4      0.20   85.3092  \n",
              "\n",
              "[5 rows x 21 columns]"
            ],
            "text/html": [
              "\n",
              "  <div id=\"df-28b043d0-bfbb-452e-b6bd-10933f816a24\" class=\"colab-df-container\">\n",
              "    <div>\n",
              "<style scoped>\n",
              "    .dataframe tbody tr th:only-of-type {\n",
              "        vertical-align: middle;\n",
              "    }\n",
              "\n",
              "    .dataframe tbody tr th {\n",
              "        vertical-align: top;\n",
              "    }\n",
              "\n",
              "    .dataframe thead th {\n",
              "        text-align: right;\n",
              "    }\n",
              "</style>\n",
              "<table border=\"1\" class=\"dataframe\">\n",
              "  <thead>\n",
              "    <tr style=\"text-align: right;\">\n",
              "      <th></th>\n",
              "      <th>Row ID</th>\n",
              "      <th>Order ID</th>\n",
              "      <th>Order Date</th>\n",
              "      <th>Ship Date</th>\n",
              "      <th>Ship Mode</th>\n",
              "      <th>Customer ID</th>\n",
              "      <th>Customer Name</th>\n",
              "      <th>Segment</th>\n",
              "      <th>Country</th>\n",
              "      <th>City</th>\n",
              "      <th>...</th>\n",
              "      <th>Postal Code</th>\n",
              "      <th>Region</th>\n",
              "      <th>Product ID</th>\n",
              "      <th>Category</th>\n",
              "      <th>Sub-Category</th>\n",
              "      <th>Product Name</th>\n",
              "      <th>Sales</th>\n",
              "      <th>Quantity</th>\n",
              "      <th>Discount</th>\n",
              "      <th>Profit</th>\n",
              "    </tr>\n",
              "  </thead>\n",
              "  <tbody>\n",
              "    <tr>\n",
              "      <th>0</th>\n",
              "      <td>1</td>\n",
              "      <td>CA-2016-152156</td>\n",
              "      <td>11/8/2016</td>\n",
              "      <td>11/11/2016</td>\n",
              "      <td>Second Class</td>\n",
              "      <td>CG-12520</td>\n",
              "      <td>Claire Gute</td>\n",
              "      <td>Consumer</td>\n",
              "      <td>United States</td>\n",
              "      <td>Henderson</td>\n",
              "      <td>...</td>\n",
              "      <td>42420</td>\n",
              "      <td>South</td>\n",
              "      <td>FUR-BO-10001798</td>\n",
              "      <td>Furniture</td>\n",
              "      <td>Bookcases</td>\n",
              "      <td>Bush Somerset Collection Bookcase</td>\n",
              "      <td>261.9600</td>\n",
              "      <td>2</td>\n",
              "      <td>0.00</td>\n",
              "      <td>41.9136</td>\n",
              "    </tr>\n",
              "    <tr>\n",
              "      <th>1</th>\n",
              "      <td>2</td>\n",
              "      <td>CA-2016-152156</td>\n",
              "      <td>11/8/2016</td>\n",
              "      <td>11/11/2016</td>\n",
              "      <td>Second Class</td>\n",
              "      <td>CG-12520</td>\n",
              "      <td>Claire Gute</td>\n",
              "      <td>Consumer</td>\n",
              "      <td>United States</td>\n",
              "      <td>Henderson</td>\n",
              "      <td>...</td>\n",
              "      <td>42420</td>\n",
              "      <td>South</td>\n",
              "      <td>FUR-CH-10000454</td>\n",
              "      <td>Furniture</td>\n",
              "      <td>Chairs</td>\n",
              "      <td>Hon Deluxe Fabric Upholstered Stacking Chairs,...</td>\n",
              "      <td>731.9400</td>\n",
              "      <td>3</td>\n",
              "      <td>0.00</td>\n",
              "      <td>219.5820</td>\n",
              "    </tr>\n",
              "    <tr>\n",
              "      <th>2</th>\n",
              "      <td>4</td>\n",
              "      <td>US-2015-108966</td>\n",
              "      <td>10/11/2015</td>\n",
              "      <td>10/18/2015</td>\n",
              "      <td>Standard Class</td>\n",
              "      <td>SO-20335</td>\n",
              "      <td>Sean O'Donnell</td>\n",
              "      <td>Consumer</td>\n",
              "      <td>United States</td>\n",
              "      <td>Fort Lauderdale</td>\n",
              "      <td>...</td>\n",
              "      <td>33311</td>\n",
              "      <td>South</td>\n",
              "      <td>FUR-TA-10000577</td>\n",
              "      <td>Furniture</td>\n",
              "      <td>Tables</td>\n",
              "      <td>Bretford CR4500 Series Slim Rectangular Table</td>\n",
              "      <td>957.5775</td>\n",
              "      <td>5</td>\n",
              "      <td>0.45</td>\n",
              "      <td>-383.0310</td>\n",
              "    </tr>\n",
              "    <tr>\n",
              "      <th>3</th>\n",
              "      <td>6</td>\n",
              "      <td>CA-2014-115812</td>\n",
              "      <td>6/9/2014</td>\n",
              "      <td>6/14/2014</td>\n",
              "      <td>Standard Class</td>\n",
              "      <td>BH-11710</td>\n",
              "      <td>Brosina Hoffman</td>\n",
              "      <td>Consumer</td>\n",
              "      <td>United States</td>\n",
              "      <td>Los Angeles</td>\n",
              "      <td>...</td>\n",
              "      <td>90032</td>\n",
              "      <td>West</td>\n",
              "      <td>FUR-FU-10001487</td>\n",
              "      <td>Furniture</td>\n",
              "      <td>Furnishings</td>\n",
              "      <td>Eldon Expressions Wood and Plastic Desk Access...</td>\n",
              "      <td>48.8600</td>\n",
              "      <td>7</td>\n",
              "      <td>0.00</td>\n",
              "      <td>14.1694</td>\n",
              "    </tr>\n",
              "    <tr>\n",
              "      <th>4</th>\n",
              "      <td>11</td>\n",
              "      <td>CA-2014-115812</td>\n",
              "      <td>6/9/2014</td>\n",
              "      <td>6/14/2014</td>\n",
              "      <td>Standard Class</td>\n",
              "      <td>BH-11710</td>\n",
              "      <td>Brosina Hoffman</td>\n",
              "      <td>Consumer</td>\n",
              "      <td>United States</td>\n",
              "      <td>Los Angeles</td>\n",
              "      <td>...</td>\n",
              "      <td>90032</td>\n",
              "      <td>West</td>\n",
              "      <td>FUR-TA-10001539</td>\n",
              "      <td>Furniture</td>\n",
              "      <td>Tables</td>\n",
              "      <td>Chromcraft Rectangular Conference Tables</td>\n",
              "      <td>1706.1840</td>\n",
              "      <td>9</td>\n",
              "      <td>0.20</td>\n",
              "      <td>85.3092</td>\n",
              "    </tr>\n",
              "  </tbody>\n",
              "</table>\n",
              "<p>5 rows × 21 columns</p>\n",
              "</div>\n",
              "    <div class=\"colab-df-buttons\">\n",
              "\n",
              "  <div class=\"colab-df-container\">\n",
              "    <button class=\"colab-df-convert\" onclick=\"convertToInteractive('df-28b043d0-bfbb-452e-b6bd-10933f816a24')\"\n",
              "            title=\"Convert this dataframe to an interactive table.\"\n",
              "            style=\"display:none;\">\n",
              "\n",
              "  <svg xmlns=\"http://www.w3.org/2000/svg\" height=\"24px\" viewBox=\"0 -960 960 960\">\n",
              "    <path d=\"M120-120v-720h720v720H120Zm60-500h600v-160H180v160Zm220 220h160v-160H400v160Zm0 220h160v-160H400v160ZM180-400h160v-160H180v160Zm440 0h160v-160H620v160ZM180-180h160v-160H180v160Zm440 0h160v-160H620v160Z\"/>\n",
              "  </svg>\n",
              "    </button>\n",
              "\n",
              "  <style>\n",
              "    .colab-df-container {\n",
              "      display:flex;\n",
              "      gap: 12px;\n",
              "    }\n",
              "\n",
              "    .colab-df-convert {\n",
              "      background-color: #E8F0FE;\n",
              "      border: none;\n",
              "      border-radius: 50%;\n",
              "      cursor: pointer;\n",
              "      display: none;\n",
              "      fill: #1967D2;\n",
              "      height: 32px;\n",
              "      padding: 0 0 0 0;\n",
              "      width: 32px;\n",
              "    }\n",
              "\n",
              "    .colab-df-convert:hover {\n",
              "      background-color: #E2EBFA;\n",
              "      box-shadow: 0px 1px 2px rgba(60, 64, 67, 0.3), 0px 1px 3px 1px rgba(60, 64, 67, 0.15);\n",
              "      fill: #174EA6;\n",
              "    }\n",
              "\n",
              "    .colab-df-buttons div {\n",
              "      margin-bottom: 4px;\n",
              "    }\n",
              "\n",
              "    [theme=dark] .colab-df-convert {\n",
              "      background-color: #3B4455;\n",
              "      fill: #D2E3FC;\n",
              "    }\n",
              "\n",
              "    [theme=dark] .colab-df-convert:hover {\n",
              "      background-color: #434B5C;\n",
              "      box-shadow: 0px 1px 3px 1px rgba(0, 0, 0, 0.15);\n",
              "      filter: drop-shadow(0px 1px 2px rgba(0, 0, 0, 0.3));\n",
              "      fill: #FFFFFF;\n",
              "    }\n",
              "  </style>\n",
              "\n",
              "    <script>\n",
              "      const buttonEl =\n",
              "        document.querySelector('#df-28b043d0-bfbb-452e-b6bd-10933f816a24 button.colab-df-convert');\n",
              "      buttonEl.style.display =\n",
              "        google.colab.kernel.accessAllowed ? 'block' : 'none';\n",
              "\n",
              "      async function convertToInteractive(key) {\n",
              "        const element = document.querySelector('#df-28b043d0-bfbb-452e-b6bd-10933f816a24');\n",
              "        const dataTable =\n",
              "          await google.colab.kernel.invokeFunction('convertToInteractive',\n",
              "                                                    [key], {});\n",
              "        if (!dataTable) return;\n",
              "\n",
              "        const docLinkHtml = 'Like what you see? Visit the ' +\n",
              "          '<a target=\"_blank\" href=https://colab.research.google.com/notebooks/data_table.ipynb>data table notebook</a>'\n",
              "          + ' to learn more about interactive tables.';\n",
              "        element.innerHTML = '';\n",
              "        dataTable['output_type'] = 'display_data';\n",
              "        await google.colab.output.renderOutput(dataTable, element);\n",
              "        const docLink = document.createElement('div');\n",
              "        docLink.innerHTML = docLinkHtml;\n",
              "        element.appendChild(docLink);\n",
              "      }\n",
              "    </script>\n",
              "  </div>\n",
              "\n",
              "\n",
              "<div id=\"df-a0493e60-7f2d-43bd-bfae-e8cf782136ff\">\n",
              "  <button class=\"colab-df-quickchart\" onclick=\"quickchart('df-a0493e60-7f2d-43bd-bfae-e8cf782136ff')\"\n",
              "            title=\"Suggest charts\"\n",
              "            style=\"display:none;\">\n",
              "\n",
              "<svg xmlns=\"http://www.w3.org/2000/svg\" height=\"24px\"viewBox=\"0 0 24 24\"\n",
              "     width=\"24px\">\n",
              "    <g>\n",
              "        <path d=\"M19 3H5c-1.1 0-2 .9-2 2v14c0 1.1.9 2 2 2h14c1.1 0 2-.9 2-2V5c0-1.1-.9-2-2-2zM9 17H7v-7h2v7zm4 0h-2V7h2v10zm4 0h-2v-4h2v4z\"/>\n",
              "    </g>\n",
              "</svg>\n",
              "  </button>\n",
              "\n",
              "<style>\n",
              "  .colab-df-quickchart {\n",
              "      --bg-color: #E8F0FE;\n",
              "      --fill-color: #1967D2;\n",
              "      --hover-bg-color: #E2EBFA;\n",
              "      --hover-fill-color: #174EA6;\n",
              "      --disabled-fill-color: #AAA;\n",
              "      --disabled-bg-color: #DDD;\n",
              "  }\n",
              "\n",
              "  [theme=dark] .colab-df-quickchart {\n",
              "      --bg-color: #3B4455;\n",
              "      --fill-color: #D2E3FC;\n",
              "      --hover-bg-color: #434B5C;\n",
              "      --hover-fill-color: #FFFFFF;\n",
              "      --disabled-bg-color: #3B4455;\n",
              "      --disabled-fill-color: #666;\n",
              "  }\n",
              "\n",
              "  .colab-df-quickchart {\n",
              "    background-color: var(--bg-color);\n",
              "    border: none;\n",
              "    border-radius: 50%;\n",
              "    cursor: pointer;\n",
              "    display: none;\n",
              "    fill: var(--fill-color);\n",
              "    height: 32px;\n",
              "    padding: 0;\n",
              "    width: 32px;\n",
              "  }\n",
              "\n",
              "  .colab-df-quickchart:hover {\n",
              "    background-color: var(--hover-bg-color);\n",
              "    box-shadow: 0 1px 2px rgba(60, 64, 67, 0.3), 0 1px 3px 1px rgba(60, 64, 67, 0.15);\n",
              "    fill: var(--button-hover-fill-color);\n",
              "  }\n",
              "\n",
              "  .colab-df-quickchart-complete:disabled,\n",
              "  .colab-df-quickchart-complete:disabled:hover {\n",
              "    background-color: var(--disabled-bg-color);\n",
              "    fill: var(--disabled-fill-color);\n",
              "    box-shadow: none;\n",
              "  }\n",
              "\n",
              "  .colab-df-spinner {\n",
              "    border: 2px solid var(--fill-color);\n",
              "    border-color: transparent;\n",
              "    border-bottom-color: var(--fill-color);\n",
              "    animation:\n",
              "      spin 1s steps(1) infinite;\n",
              "  }\n",
              "\n",
              "  @keyframes spin {\n",
              "    0% {\n",
              "      border-color: transparent;\n",
              "      border-bottom-color: var(--fill-color);\n",
              "      border-left-color: var(--fill-color);\n",
              "    }\n",
              "    20% {\n",
              "      border-color: transparent;\n",
              "      border-left-color: var(--fill-color);\n",
              "      border-top-color: var(--fill-color);\n",
              "    }\n",
              "    30% {\n",
              "      border-color: transparent;\n",
              "      border-left-color: var(--fill-color);\n",
              "      border-top-color: var(--fill-color);\n",
              "      border-right-color: var(--fill-color);\n",
              "    }\n",
              "    40% {\n",
              "      border-color: transparent;\n",
              "      border-right-color: var(--fill-color);\n",
              "      border-top-color: var(--fill-color);\n",
              "    }\n",
              "    60% {\n",
              "      border-color: transparent;\n",
              "      border-right-color: var(--fill-color);\n",
              "    }\n",
              "    80% {\n",
              "      border-color: transparent;\n",
              "      border-right-color: var(--fill-color);\n",
              "      border-bottom-color: var(--fill-color);\n",
              "    }\n",
              "    90% {\n",
              "      border-color: transparent;\n",
              "      border-bottom-color: var(--fill-color);\n",
              "    }\n",
              "  }\n",
              "</style>\n",
              "\n",
              "  <script>\n",
              "    async function quickchart(key) {\n",
              "      const quickchartButtonEl =\n",
              "        document.querySelector('#' + key + ' button');\n",
              "      quickchartButtonEl.disabled = true;  // To prevent multiple clicks.\n",
              "      quickchartButtonEl.classList.add('colab-df-spinner');\n",
              "      try {\n",
              "        const charts = await google.colab.kernel.invokeFunction(\n",
              "            'suggestCharts', [key], {});\n",
              "      } catch (error) {\n",
              "        console.error('Error during call to suggestCharts:', error);\n",
              "      }\n",
              "      quickchartButtonEl.classList.remove('colab-df-spinner');\n",
              "      quickchartButtonEl.classList.add('colab-df-quickchart-complete');\n",
              "    }\n",
              "    (() => {\n",
              "      let quickchartButtonEl =\n",
              "        document.querySelector('#df-a0493e60-7f2d-43bd-bfae-e8cf782136ff button');\n",
              "      quickchartButtonEl.style.display =\n",
              "        google.colab.kernel.accessAllowed ? 'block' : 'none';\n",
              "    })();\n",
              "  </script>\n",
              "</div>\n",
              "\n",
              "    </div>\n",
              "  </div>\n"
            ],
            "application/vnd.google.colaboratory.intrinsic+json": {
              "type": "dataframe",
              "variable_name": "data"
            }
          },
          "metadata": {},
          "execution_count": 4
        }
      ]
    },
    {
      "cell_type": "code",
      "source": [
        "data.info()"
      ],
      "metadata": {
        "colab": {
          "base_uri": "https://localhost:8080/"
        },
        "id": "SZG79noOniDH",
        "outputId": "c161ec32-e96c-4509-b83c-6e89bb119023"
      },
      "execution_count": null,
      "outputs": [
        {
          "output_type": "stream",
          "name": "stdout",
          "text": [
            "<class 'pandas.core.frame.DataFrame'>\n",
            "RangeIndex: 2121 entries, 0 to 2120\n",
            "Data columns (total 21 columns):\n",
            " #   Column         Non-Null Count  Dtype  \n",
            "---  ------         --------------  -----  \n",
            " 0   Row ID         2121 non-null   int64  \n",
            " 1   Order ID       2121 non-null   object \n",
            " 2   Order Date     2121 non-null   object \n",
            " 3   Ship Date      2121 non-null   object \n",
            " 4   Ship Mode      2121 non-null   object \n",
            " 5   Customer ID    2121 non-null   object \n",
            " 6   Customer Name  2121 non-null   object \n",
            " 7   Segment        2121 non-null   object \n",
            " 8   Country        2121 non-null   object \n",
            " 9   City           2121 non-null   object \n",
            " 10  State          2121 non-null   object \n",
            " 11  Postal Code    2121 non-null   int64  \n",
            " 12  Region         2121 non-null   object \n",
            " 13  Product ID     2121 non-null   object \n",
            " 14  Category       2121 non-null   object \n",
            " 15  Sub-Category   2121 non-null   object \n",
            " 16  Product Name   2121 non-null   object \n",
            " 17  Sales          2121 non-null   float64\n",
            " 18  Quantity       2121 non-null   int64  \n",
            " 19  Discount       2121 non-null   float64\n",
            " 20  Profit         2121 non-null   float64\n",
            "dtypes: float64(3), int64(3), object(15)\n",
            "memory usage: 348.1+ KB\n"
          ]
        }
      ]
    },
    {
      "cell_type": "code",
      "source": [
        "data.columns"
      ],
      "metadata": {
        "colab": {
          "base_uri": "https://localhost:8080/"
        },
        "id": "VCpvvYTBnpBE",
        "outputId": "e793bf1e-1cbf-46b8-d308-c264f025a6cb"
      },
      "execution_count": null,
      "outputs": [
        {
          "output_type": "execute_result",
          "data": {
            "text/plain": [
              "Index(['Row ID', 'Order ID', 'Order Date', 'Ship Date', 'Ship Mode',\n",
              "       'Customer ID', 'Customer Name', 'Segment', 'Country', 'City', 'State',\n",
              "       'Postal Code', 'Region', 'Product ID', 'Category', 'Sub-Category',\n",
              "       'Product Name', 'Sales', 'Quantity', 'Discount', 'Profit'],\n",
              "      dtype='object')"
            ]
          },
          "metadata": {},
          "execution_count": 6
        }
      ]
    },
    {
      "cell_type": "code",
      "source": [
        "cols_select = ['Row ID', 'Order ID', 'Ship Date', 'Ship Mode',\n",
        "       'Customer ID', 'Customer Name', 'Segment', 'Country', 'City', 'State',\n",
        "       'Postal Code', 'Region', 'Product ID', 'Category', 'Sub-Category',\n",
        "       'Product Name', 'Quantity', 'Discount', 'Profit']"
      ],
      "metadata": {
        "id": "fkg6eC5Vnr9v"
      },
      "execution_count": null,
      "outputs": []
    },
    {
      "cell_type": "code",
      "source": [
        "data_sales = data.drop(cols_select, axis = 1)"
      ],
      "metadata": {
        "id": "8L9RU0RQnvpX"
      },
      "execution_count": null,
      "outputs": []
    },
    {
      "cell_type": "code",
      "source": [
        "data_sales.head()             #We need just the time series data and the sales(to forecast the sales)"
      ],
      "metadata": {
        "colab": {
          "base_uri": "https://localhost:8080/",
          "height": 206
        },
        "id": "6koVUPeMnycG",
        "outputId": "37c3e225-f0bc-442c-8fe1-71ff7efe2900"
      },
      "execution_count": null,
      "outputs": [
        {
          "output_type": "execute_result",
          "data": {
            "text/plain": [
              "   Order Date      Sales\n",
              "0   11/8/2016   261.9600\n",
              "1   11/8/2016   731.9400\n",
              "2  10/11/2015   957.5775\n",
              "3    6/9/2014    48.8600\n",
              "4    6/9/2014  1706.1840"
            ],
            "text/html": [
              "\n",
              "  <div id=\"df-d8865db5-be3e-4ca9-b478-3e4b2ad3ba94\" class=\"colab-df-container\">\n",
              "    <div>\n",
              "<style scoped>\n",
              "    .dataframe tbody tr th:only-of-type {\n",
              "        vertical-align: middle;\n",
              "    }\n",
              "\n",
              "    .dataframe tbody tr th {\n",
              "        vertical-align: top;\n",
              "    }\n",
              "\n",
              "    .dataframe thead th {\n",
              "        text-align: right;\n",
              "    }\n",
              "</style>\n",
              "<table border=\"1\" class=\"dataframe\">\n",
              "  <thead>\n",
              "    <tr style=\"text-align: right;\">\n",
              "      <th></th>\n",
              "      <th>Order Date</th>\n",
              "      <th>Sales</th>\n",
              "    </tr>\n",
              "  </thead>\n",
              "  <tbody>\n",
              "    <tr>\n",
              "      <th>0</th>\n",
              "      <td>11/8/2016</td>\n",
              "      <td>261.9600</td>\n",
              "    </tr>\n",
              "    <tr>\n",
              "      <th>1</th>\n",
              "      <td>11/8/2016</td>\n",
              "      <td>731.9400</td>\n",
              "    </tr>\n",
              "    <tr>\n",
              "      <th>2</th>\n",
              "      <td>10/11/2015</td>\n",
              "      <td>957.5775</td>\n",
              "    </tr>\n",
              "    <tr>\n",
              "      <th>3</th>\n",
              "      <td>6/9/2014</td>\n",
              "      <td>48.8600</td>\n",
              "    </tr>\n",
              "    <tr>\n",
              "      <th>4</th>\n",
              "      <td>6/9/2014</td>\n",
              "      <td>1706.1840</td>\n",
              "    </tr>\n",
              "  </tbody>\n",
              "</table>\n",
              "</div>\n",
              "    <div class=\"colab-df-buttons\">\n",
              "\n",
              "  <div class=\"colab-df-container\">\n",
              "    <button class=\"colab-df-convert\" onclick=\"convertToInteractive('df-d8865db5-be3e-4ca9-b478-3e4b2ad3ba94')\"\n",
              "            title=\"Convert this dataframe to an interactive table.\"\n",
              "            style=\"display:none;\">\n",
              "\n",
              "  <svg xmlns=\"http://www.w3.org/2000/svg\" height=\"24px\" viewBox=\"0 -960 960 960\">\n",
              "    <path d=\"M120-120v-720h720v720H120Zm60-500h600v-160H180v160Zm220 220h160v-160H400v160Zm0 220h160v-160H400v160ZM180-400h160v-160H180v160Zm440 0h160v-160H620v160ZM180-180h160v-160H180v160Zm440 0h160v-160H620v160Z\"/>\n",
              "  </svg>\n",
              "    </button>\n",
              "\n",
              "  <style>\n",
              "    .colab-df-container {\n",
              "      display:flex;\n",
              "      gap: 12px;\n",
              "    }\n",
              "\n",
              "    .colab-df-convert {\n",
              "      background-color: #E8F0FE;\n",
              "      border: none;\n",
              "      border-radius: 50%;\n",
              "      cursor: pointer;\n",
              "      display: none;\n",
              "      fill: #1967D2;\n",
              "      height: 32px;\n",
              "      padding: 0 0 0 0;\n",
              "      width: 32px;\n",
              "    }\n",
              "\n",
              "    .colab-df-convert:hover {\n",
              "      background-color: #E2EBFA;\n",
              "      box-shadow: 0px 1px 2px rgba(60, 64, 67, 0.3), 0px 1px 3px 1px rgba(60, 64, 67, 0.15);\n",
              "      fill: #174EA6;\n",
              "    }\n",
              "\n",
              "    .colab-df-buttons div {\n",
              "      margin-bottom: 4px;\n",
              "    }\n",
              "\n",
              "    [theme=dark] .colab-df-convert {\n",
              "      background-color: #3B4455;\n",
              "      fill: #D2E3FC;\n",
              "    }\n",
              "\n",
              "    [theme=dark] .colab-df-convert:hover {\n",
              "      background-color: #434B5C;\n",
              "      box-shadow: 0px 1px 3px 1px rgba(0, 0, 0, 0.15);\n",
              "      filter: drop-shadow(0px 1px 2px rgba(0, 0, 0, 0.3));\n",
              "      fill: #FFFFFF;\n",
              "    }\n",
              "  </style>\n",
              "\n",
              "    <script>\n",
              "      const buttonEl =\n",
              "        document.querySelector('#df-d8865db5-be3e-4ca9-b478-3e4b2ad3ba94 button.colab-df-convert');\n",
              "      buttonEl.style.display =\n",
              "        google.colab.kernel.accessAllowed ? 'block' : 'none';\n",
              "\n",
              "      async function convertToInteractive(key) {\n",
              "        const element = document.querySelector('#df-d8865db5-be3e-4ca9-b478-3e4b2ad3ba94');\n",
              "        const dataTable =\n",
              "          await google.colab.kernel.invokeFunction('convertToInteractive',\n",
              "                                                    [key], {});\n",
              "        if (!dataTable) return;\n",
              "\n",
              "        const docLinkHtml = 'Like what you see? Visit the ' +\n",
              "          '<a target=\"_blank\" href=https://colab.research.google.com/notebooks/data_table.ipynb>data table notebook</a>'\n",
              "          + ' to learn more about interactive tables.';\n",
              "        element.innerHTML = '';\n",
              "        dataTable['output_type'] = 'display_data';\n",
              "        await google.colab.output.renderOutput(dataTable, element);\n",
              "        const docLink = document.createElement('div');\n",
              "        docLink.innerHTML = docLinkHtml;\n",
              "        element.appendChild(docLink);\n",
              "      }\n",
              "    </script>\n",
              "  </div>\n",
              "\n",
              "\n",
              "<div id=\"df-0f2c9a18-97a1-4103-81e4-e078aa0a6443\">\n",
              "  <button class=\"colab-df-quickchart\" onclick=\"quickchart('df-0f2c9a18-97a1-4103-81e4-e078aa0a6443')\"\n",
              "            title=\"Suggest charts\"\n",
              "            style=\"display:none;\">\n",
              "\n",
              "<svg xmlns=\"http://www.w3.org/2000/svg\" height=\"24px\"viewBox=\"0 0 24 24\"\n",
              "     width=\"24px\">\n",
              "    <g>\n",
              "        <path d=\"M19 3H5c-1.1 0-2 .9-2 2v14c0 1.1.9 2 2 2h14c1.1 0 2-.9 2-2V5c0-1.1-.9-2-2-2zM9 17H7v-7h2v7zm4 0h-2V7h2v10zm4 0h-2v-4h2v4z\"/>\n",
              "    </g>\n",
              "</svg>\n",
              "  </button>\n",
              "\n",
              "<style>\n",
              "  .colab-df-quickchart {\n",
              "      --bg-color: #E8F0FE;\n",
              "      --fill-color: #1967D2;\n",
              "      --hover-bg-color: #E2EBFA;\n",
              "      --hover-fill-color: #174EA6;\n",
              "      --disabled-fill-color: #AAA;\n",
              "      --disabled-bg-color: #DDD;\n",
              "  }\n",
              "\n",
              "  [theme=dark] .colab-df-quickchart {\n",
              "      --bg-color: #3B4455;\n",
              "      --fill-color: #D2E3FC;\n",
              "      --hover-bg-color: #434B5C;\n",
              "      --hover-fill-color: #FFFFFF;\n",
              "      --disabled-bg-color: #3B4455;\n",
              "      --disabled-fill-color: #666;\n",
              "  }\n",
              "\n",
              "  .colab-df-quickchart {\n",
              "    background-color: var(--bg-color);\n",
              "    border: none;\n",
              "    border-radius: 50%;\n",
              "    cursor: pointer;\n",
              "    display: none;\n",
              "    fill: var(--fill-color);\n",
              "    height: 32px;\n",
              "    padding: 0;\n",
              "    width: 32px;\n",
              "  }\n",
              "\n",
              "  .colab-df-quickchart:hover {\n",
              "    background-color: var(--hover-bg-color);\n",
              "    box-shadow: 0 1px 2px rgba(60, 64, 67, 0.3), 0 1px 3px 1px rgba(60, 64, 67, 0.15);\n",
              "    fill: var(--button-hover-fill-color);\n",
              "  }\n",
              "\n",
              "  .colab-df-quickchart-complete:disabled,\n",
              "  .colab-df-quickchart-complete:disabled:hover {\n",
              "    background-color: var(--disabled-bg-color);\n",
              "    fill: var(--disabled-fill-color);\n",
              "    box-shadow: none;\n",
              "  }\n",
              "\n",
              "  .colab-df-spinner {\n",
              "    border: 2px solid var(--fill-color);\n",
              "    border-color: transparent;\n",
              "    border-bottom-color: var(--fill-color);\n",
              "    animation:\n",
              "      spin 1s steps(1) infinite;\n",
              "  }\n",
              "\n",
              "  @keyframes spin {\n",
              "    0% {\n",
              "      border-color: transparent;\n",
              "      border-bottom-color: var(--fill-color);\n",
              "      border-left-color: var(--fill-color);\n",
              "    }\n",
              "    20% {\n",
              "      border-color: transparent;\n",
              "      border-left-color: var(--fill-color);\n",
              "      border-top-color: var(--fill-color);\n",
              "    }\n",
              "    30% {\n",
              "      border-color: transparent;\n",
              "      border-left-color: var(--fill-color);\n",
              "      border-top-color: var(--fill-color);\n",
              "      border-right-color: var(--fill-color);\n",
              "    }\n",
              "    40% {\n",
              "      border-color: transparent;\n",
              "      border-right-color: var(--fill-color);\n",
              "      border-top-color: var(--fill-color);\n",
              "    }\n",
              "    60% {\n",
              "      border-color: transparent;\n",
              "      border-right-color: var(--fill-color);\n",
              "    }\n",
              "    80% {\n",
              "      border-color: transparent;\n",
              "      border-right-color: var(--fill-color);\n",
              "      border-bottom-color: var(--fill-color);\n",
              "    }\n",
              "    90% {\n",
              "      border-color: transparent;\n",
              "      border-bottom-color: var(--fill-color);\n",
              "    }\n",
              "  }\n",
              "</style>\n",
              "\n",
              "  <script>\n",
              "    async function quickchart(key) {\n",
              "      const quickchartButtonEl =\n",
              "        document.querySelector('#' + key + ' button');\n",
              "      quickchartButtonEl.disabled = true;  // To prevent multiple clicks.\n",
              "      quickchartButtonEl.classList.add('colab-df-spinner');\n",
              "      try {\n",
              "        const charts = await google.colab.kernel.invokeFunction(\n",
              "            'suggestCharts', [key], {});\n",
              "      } catch (error) {\n",
              "        console.error('Error during call to suggestCharts:', error);\n",
              "      }\n",
              "      quickchartButtonEl.classList.remove('colab-df-spinner');\n",
              "      quickchartButtonEl.classList.add('colab-df-quickchart-complete');\n",
              "    }\n",
              "    (() => {\n",
              "      let quickchartButtonEl =\n",
              "        document.querySelector('#df-0f2c9a18-97a1-4103-81e4-e078aa0a6443 button');\n",
              "      quickchartButtonEl.style.display =\n",
              "        google.colab.kernel.accessAllowed ? 'block' : 'none';\n",
              "    })();\n",
              "  </script>\n",
              "</div>\n",
              "\n",
              "    </div>\n",
              "  </div>\n"
            ],
            "application/vnd.google.colaboratory.intrinsic+json": {
              "type": "dataframe",
              "variable_name": "data_sales",
              "summary": "{\n  \"name\": \"data_sales\",\n  \"rows\": 2121,\n  \"fields\": [\n    {\n      \"column\": \"Order Date\",\n      \"properties\": {\n        \"dtype\": \"object\",\n        \"num_unique_values\": 889,\n        \"samples\": [\n          \"12/1/2014\",\n          \"10/6/2017\",\n          \"2/28/2015\"\n        ],\n        \"semantic_type\": \"\",\n        \"description\": \"\"\n      }\n    },\n    {\n      \"column\": \"Sales\",\n      \"properties\": {\n        \"dtype\": \"number\",\n        \"std\": 503.1791448146309,\n        \"min\": 1.892,\n        \"max\": 4416.174,\n        \"num_unique_values\": 1636,\n        \"samples\": [\n          2430.08,\n          4297.644,\n          40.56\n        ],\n        \"semantic_type\": \"\",\n        \"description\": \"\"\n      }\n    }\n  ]\n}"
            }
          },
          "metadata": {},
          "execution_count": 9
        }
      ]
    },
    {
      "cell_type": "code",
      "source": [
        "data_sales = data_sales.sort_values('Order Date')"
      ],
      "metadata": {
        "id": "ygyVsIPqn7S9"
      },
      "execution_count": null,
      "outputs": []
    },
    {
      "cell_type": "code",
      "source": [
        "data_sales.head()"
      ],
      "metadata": {
        "colab": {
          "base_uri": "https://localhost:8080/",
          "height": 206
        },
        "id": "DZ4S-VtPoG4I",
        "outputId": "df8cc517-4fc5-48bf-9afe-ca2739ab4122"
      },
      "execution_count": null,
      "outputs": [
        {
          "output_type": "execute_result",
          "data": {
            "text/plain": [
              "     Order Date    Sales\n",
              "845    1/1/2017  474.430\n",
              "1707   1/1/2017  141.420\n",
              "1708   1/1/2017  310.744\n",
              "179    1/1/2017   48.896\n",
              "181   1/10/2014   51.940"
            ],
            "text/html": [
              "\n",
              "  <div id=\"df-f94241d1-03fd-488c-b975-b76cadcbdc5f\" class=\"colab-df-container\">\n",
              "    <div>\n",
              "<style scoped>\n",
              "    .dataframe tbody tr th:only-of-type {\n",
              "        vertical-align: middle;\n",
              "    }\n",
              "\n",
              "    .dataframe tbody tr th {\n",
              "        vertical-align: top;\n",
              "    }\n",
              "\n",
              "    .dataframe thead th {\n",
              "        text-align: right;\n",
              "    }\n",
              "</style>\n",
              "<table border=\"1\" class=\"dataframe\">\n",
              "  <thead>\n",
              "    <tr style=\"text-align: right;\">\n",
              "      <th></th>\n",
              "      <th>Order Date</th>\n",
              "      <th>Sales</th>\n",
              "    </tr>\n",
              "  </thead>\n",
              "  <tbody>\n",
              "    <tr>\n",
              "      <th>845</th>\n",
              "      <td>1/1/2017</td>\n",
              "      <td>474.430</td>\n",
              "    </tr>\n",
              "    <tr>\n",
              "      <th>1707</th>\n",
              "      <td>1/1/2017</td>\n",
              "      <td>141.420</td>\n",
              "    </tr>\n",
              "    <tr>\n",
              "      <th>1708</th>\n",
              "      <td>1/1/2017</td>\n",
              "      <td>310.744</td>\n",
              "    </tr>\n",
              "    <tr>\n",
              "      <th>179</th>\n",
              "      <td>1/1/2017</td>\n",
              "      <td>48.896</td>\n",
              "    </tr>\n",
              "    <tr>\n",
              "      <th>181</th>\n",
              "      <td>1/10/2014</td>\n",
              "      <td>51.940</td>\n",
              "    </tr>\n",
              "  </tbody>\n",
              "</table>\n",
              "</div>\n",
              "    <div class=\"colab-df-buttons\">\n",
              "\n",
              "  <div class=\"colab-df-container\">\n",
              "    <button class=\"colab-df-convert\" onclick=\"convertToInteractive('df-f94241d1-03fd-488c-b975-b76cadcbdc5f')\"\n",
              "            title=\"Convert this dataframe to an interactive table.\"\n",
              "            style=\"display:none;\">\n",
              "\n",
              "  <svg xmlns=\"http://www.w3.org/2000/svg\" height=\"24px\" viewBox=\"0 -960 960 960\">\n",
              "    <path d=\"M120-120v-720h720v720H120Zm60-500h600v-160H180v160Zm220 220h160v-160H400v160Zm0 220h160v-160H400v160ZM180-400h160v-160H180v160Zm440 0h160v-160H620v160ZM180-180h160v-160H180v160Zm440 0h160v-160H620v160Z\"/>\n",
              "  </svg>\n",
              "    </button>\n",
              "\n",
              "  <style>\n",
              "    .colab-df-container {\n",
              "      display:flex;\n",
              "      gap: 12px;\n",
              "    }\n",
              "\n",
              "    .colab-df-convert {\n",
              "      background-color: #E8F0FE;\n",
              "      border: none;\n",
              "      border-radius: 50%;\n",
              "      cursor: pointer;\n",
              "      display: none;\n",
              "      fill: #1967D2;\n",
              "      height: 32px;\n",
              "      padding: 0 0 0 0;\n",
              "      width: 32px;\n",
              "    }\n",
              "\n",
              "    .colab-df-convert:hover {\n",
              "      background-color: #E2EBFA;\n",
              "      box-shadow: 0px 1px 2px rgba(60, 64, 67, 0.3), 0px 1px 3px 1px rgba(60, 64, 67, 0.15);\n",
              "      fill: #174EA6;\n",
              "    }\n",
              "\n",
              "    .colab-df-buttons div {\n",
              "      margin-bottom: 4px;\n",
              "    }\n",
              "\n",
              "    [theme=dark] .colab-df-convert {\n",
              "      background-color: #3B4455;\n",
              "      fill: #D2E3FC;\n",
              "    }\n",
              "\n",
              "    [theme=dark] .colab-df-convert:hover {\n",
              "      background-color: #434B5C;\n",
              "      box-shadow: 0px 1px 3px 1px rgba(0, 0, 0, 0.15);\n",
              "      filter: drop-shadow(0px 1px 2px rgba(0, 0, 0, 0.3));\n",
              "      fill: #FFFFFF;\n",
              "    }\n",
              "  </style>\n",
              "\n",
              "    <script>\n",
              "      const buttonEl =\n",
              "        document.querySelector('#df-f94241d1-03fd-488c-b975-b76cadcbdc5f button.colab-df-convert');\n",
              "      buttonEl.style.display =\n",
              "        google.colab.kernel.accessAllowed ? 'block' : 'none';\n",
              "\n",
              "      async function convertToInteractive(key) {\n",
              "        const element = document.querySelector('#df-f94241d1-03fd-488c-b975-b76cadcbdc5f');\n",
              "        const dataTable =\n",
              "          await google.colab.kernel.invokeFunction('convertToInteractive',\n",
              "                                                    [key], {});\n",
              "        if (!dataTable) return;\n",
              "\n",
              "        const docLinkHtml = 'Like what you see? Visit the ' +\n",
              "          '<a target=\"_blank\" href=https://colab.research.google.com/notebooks/data_table.ipynb>data table notebook</a>'\n",
              "          + ' to learn more about interactive tables.';\n",
              "        element.innerHTML = '';\n",
              "        dataTable['output_type'] = 'display_data';\n",
              "        await google.colab.output.renderOutput(dataTable, element);\n",
              "        const docLink = document.createElement('div');\n",
              "        docLink.innerHTML = docLinkHtml;\n",
              "        element.appendChild(docLink);\n",
              "      }\n",
              "    </script>\n",
              "  </div>\n",
              "\n",
              "\n",
              "<div id=\"df-262af0b2-06ba-4be2-9639-d501073a983b\">\n",
              "  <button class=\"colab-df-quickchart\" onclick=\"quickchart('df-262af0b2-06ba-4be2-9639-d501073a983b')\"\n",
              "            title=\"Suggest charts\"\n",
              "            style=\"display:none;\">\n",
              "\n",
              "<svg xmlns=\"http://www.w3.org/2000/svg\" height=\"24px\"viewBox=\"0 0 24 24\"\n",
              "     width=\"24px\">\n",
              "    <g>\n",
              "        <path d=\"M19 3H5c-1.1 0-2 .9-2 2v14c0 1.1.9 2 2 2h14c1.1 0 2-.9 2-2V5c0-1.1-.9-2-2-2zM9 17H7v-7h2v7zm4 0h-2V7h2v10zm4 0h-2v-4h2v4z\"/>\n",
              "    </g>\n",
              "</svg>\n",
              "  </button>\n",
              "\n",
              "<style>\n",
              "  .colab-df-quickchart {\n",
              "      --bg-color: #E8F0FE;\n",
              "      --fill-color: #1967D2;\n",
              "      --hover-bg-color: #E2EBFA;\n",
              "      --hover-fill-color: #174EA6;\n",
              "      --disabled-fill-color: #AAA;\n",
              "      --disabled-bg-color: #DDD;\n",
              "  }\n",
              "\n",
              "  [theme=dark] .colab-df-quickchart {\n",
              "      --bg-color: #3B4455;\n",
              "      --fill-color: #D2E3FC;\n",
              "      --hover-bg-color: #434B5C;\n",
              "      --hover-fill-color: #FFFFFF;\n",
              "      --disabled-bg-color: #3B4455;\n",
              "      --disabled-fill-color: #666;\n",
              "  }\n",
              "\n",
              "  .colab-df-quickchart {\n",
              "    background-color: var(--bg-color);\n",
              "    border: none;\n",
              "    border-radius: 50%;\n",
              "    cursor: pointer;\n",
              "    display: none;\n",
              "    fill: var(--fill-color);\n",
              "    height: 32px;\n",
              "    padding: 0;\n",
              "    width: 32px;\n",
              "  }\n",
              "\n",
              "  .colab-df-quickchart:hover {\n",
              "    background-color: var(--hover-bg-color);\n",
              "    box-shadow: 0 1px 2px rgba(60, 64, 67, 0.3), 0 1px 3px 1px rgba(60, 64, 67, 0.15);\n",
              "    fill: var(--button-hover-fill-color);\n",
              "  }\n",
              "\n",
              "  .colab-df-quickchart-complete:disabled,\n",
              "  .colab-df-quickchart-complete:disabled:hover {\n",
              "    background-color: var(--disabled-bg-color);\n",
              "    fill: var(--disabled-fill-color);\n",
              "    box-shadow: none;\n",
              "  }\n",
              "\n",
              "  .colab-df-spinner {\n",
              "    border: 2px solid var(--fill-color);\n",
              "    border-color: transparent;\n",
              "    border-bottom-color: var(--fill-color);\n",
              "    animation:\n",
              "      spin 1s steps(1) infinite;\n",
              "  }\n",
              "\n",
              "  @keyframes spin {\n",
              "    0% {\n",
              "      border-color: transparent;\n",
              "      border-bottom-color: var(--fill-color);\n",
              "      border-left-color: var(--fill-color);\n",
              "    }\n",
              "    20% {\n",
              "      border-color: transparent;\n",
              "      border-left-color: var(--fill-color);\n",
              "      border-top-color: var(--fill-color);\n",
              "    }\n",
              "    30% {\n",
              "      border-color: transparent;\n",
              "      border-left-color: var(--fill-color);\n",
              "      border-top-color: var(--fill-color);\n",
              "      border-right-color: var(--fill-color);\n",
              "    }\n",
              "    40% {\n",
              "      border-color: transparent;\n",
              "      border-right-color: var(--fill-color);\n",
              "      border-top-color: var(--fill-color);\n",
              "    }\n",
              "    60% {\n",
              "      border-color: transparent;\n",
              "      border-right-color: var(--fill-color);\n",
              "    }\n",
              "    80% {\n",
              "      border-color: transparent;\n",
              "      border-right-color: var(--fill-color);\n",
              "      border-bottom-color: var(--fill-color);\n",
              "    }\n",
              "    90% {\n",
              "      border-color: transparent;\n",
              "      border-bottom-color: var(--fill-color);\n",
              "    }\n",
              "  }\n",
              "</style>\n",
              "\n",
              "  <script>\n",
              "    async function quickchart(key) {\n",
              "      const quickchartButtonEl =\n",
              "        document.querySelector('#' + key + ' button');\n",
              "      quickchartButtonEl.disabled = true;  // To prevent multiple clicks.\n",
              "      quickchartButtonEl.classList.add('colab-df-spinner');\n",
              "      try {\n",
              "        const charts = await google.colab.kernel.invokeFunction(\n",
              "            'suggestCharts', [key], {});\n",
              "      } catch (error) {\n",
              "        console.error('Error during call to suggestCharts:', error);\n",
              "      }\n",
              "      quickchartButtonEl.classList.remove('colab-df-spinner');\n",
              "      quickchartButtonEl.classList.add('colab-df-quickchart-complete');\n",
              "    }\n",
              "    (() => {\n",
              "      let quickchartButtonEl =\n",
              "        document.querySelector('#df-262af0b2-06ba-4be2-9639-d501073a983b button');\n",
              "      quickchartButtonEl.style.display =\n",
              "        google.colab.kernel.accessAllowed ? 'block' : 'none';\n",
              "    })();\n",
              "  </script>\n",
              "</div>\n",
              "\n",
              "    </div>\n",
              "  </div>\n"
            ],
            "application/vnd.google.colaboratory.intrinsic+json": {
              "type": "dataframe",
              "variable_name": "data_sales",
              "summary": "{\n  \"name\": \"data_sales\",\n  \"rows\": 2121,\n  \"fields\": [\n    {\n      \"column\": \"Order Date\",\n      \"properties\": {\n        \"dtype\": \"object\",\n        \"num_unique_values\": 889,\n        \"samples\": [\n          \"12/21/2017\",\n          \"3/8/2016\",\n          \"1/29/2017\"\n        ],\n        \"semantic_type\": \"\",\n        \"description\": \"\"\n      }\n    },\n    {\n      \"column\": \"Sales\",\n      \"properties\": {\n        \"dtype\": \"number\",\n        \"std\": 503.1791448146309,\n        \"min\": 1.892,\n        \"max\": 4416.174,\n        \"num_unique_values\": 1636,\n        \"samples\": [\n          51.756,\n          67.176,\n          383.8\n        ],\n        \"semantic_type\": \"\",\n        \"description\": \"\"\n      }\n    }\n  ]\n}"
            }
          },
          "metadata": {},
          "execution_count": 11
        }
      ]
    },
    {
      "cell_type": "code",
      "source": [
        "data_sales[\"Order Date\"] = pd.to_datetime(data_sales[\"Order Date\"])"
      ],
      "metadata": {
        "id": "7gMO8Lp4qaz7"
      },
      "execution_count": null,
      "outputs": []
    },
    {
      "cell_type": "code",
      "source": [
        "print(data_sales['Order Date'].min())\n",
        "print(data_sales['Order Date'].max())"
      ],
      "metadata": {
        "colab": {
          "base_uri": "https://localhost:8080/"
        },
        "id": "F3-Ua5eLoKvC",
        "outputId": "02351c45-263e-4071-af6e-1ebbe6ced741"
      },
      "execution_count": null,
      "outputs": [
        {
          "output_type": "stream",
          "name": "stdout",
          "text": [
            "2014-01-06 00:00:00\n",
            "2017-12-30 00:00:00\n"
          ]
        }
      ]
    },
    {
      "cell_type": "code",
      "source": [
        "data_sales =  data_sales.set_index('Order Date')"
      ],
      "metadata": {
        "id": "RcEcr-Ofo2Ao"
      },
      "execution_count": null,
      "outputs": []
    },
    {
      "cell_type": "code",
      "source": [
        "data_sales"
      ],
      "metadata": {
        "colab": {
          "base_uri": "https://localhost:8080/",
          "height": 455
        },
        "id": "ngeaxdX5px3y",
        "outputId": "684b1021-7b0f-4133-b516-7cc6c56ed968"
      },
      "execution_count": null,
      "outputs": [
        {
          "output_type": "execute_result",
          "data": {
            "text/plain": [
              "              Sales\n",
              "Order Date         \n",
              "2017-01-01  474.430\n",
              "2017-01-01  141.420\n",
              "2017-01-01  310.744\n",
              "2017-01-01   48.896\n",
              "2014-01-10   51.940\n",
              "...             ...\n",
              "2017-09-09   66.112\n",
              "2017-09-09  243.920\n",
              "2017-09-09   17.024\n",
              "2017-09-09  141.372\n",
              "2017-09-09   14.136\n",
              "\n",
              "[2121 rows x 1 columns]"
            ],
            "text/html": [
              "\n",
              "  <div id=\"df-504ce1d0-b376-438b-b229-2ca7341a6386\" class=\"colab-df-container\">\n",
              "    <div>\n",
              "<style scoped>\n",
              "    .dataframe tbody tr th:only-of-type {\n",
              "        vertical-align: middle;\n",
              "    }\n",
              "\n",
              "    .dataframe tbody tr th {\n",
              "        vertical-align: top;\n",
              "    }\n",
              "\n",
              "    .dataframe thead th {\n",
              "        text-align: right;\n",
              "    }\n",
              "</style>\n",
              "<table border=\"1\" class=\"dataframe\">\n",
              "  <thead>\n",
              "    <tr style=\"text-align: right;\">\n",
              "      <th></th>\n",
              "      <th>Sales</th>\n",
              "    </tr>\n",
              "    <tr>\n",
              "      <th>Order Date</th>\n",
              "      <th></th>\n",
              "    </tr>\n",
              "  </thead>\n",
              "  <tbody>\n",
              "    <tr>\n",
              "      <th>2017-01-01</th>\n",
              "      <td>474.430</td>\n",
              "    </tr>\n",
              "    <tr>\n",
              "      <th>2017-01-01</th>\n",
              "      <td>141.420</td>\n",
              "    </tr>\n",
              "    <tr>\n",
              "      <th>2017-01-01</th>\n",
              "      <td>310.744</td>\n",
              "    </tr>\n",
              "    <tr>\n",
              "      <th>2017-01-01</th>\n",
              "      <td>48.896</td>\n",
              "    </tr>\n",
              "    <tr>\n",
              "      <th>2014-01-10</th>\n",
              "      <td>51.940</td>\n",
              "    </tr>\n",
              "    <tr>\n",
              "      <th>...</th>\n",
              "      <td>...</td>\n",
              "    </tr>\n",
              "    <tr>\n",
              "      <th>2017-09-09</th>\n",
              "      <td>66.112</td>\n",
              "    </tr>\n",
              "    <tr>\n",
              "      <th>2017-09-09</th>\n",
              "      <td>243.920</td>\n",
              "    </tr>\n",
              "    <tr>\n",
              "      <th>2017-09-09</th>\n",
              "      <td>17.024</td>\n",
              "    </tr>\n",
              "    <tr>\n",
              "      <th>2017-09-09</th>\n",
              "      <td>141.372</td>\n",
              "    </tr>\n",
              "    <tr>\n",
              "      <th>2017-09-09</th>\n",
              "      <td>14.136</td>\n",
              "    </tr>\n",
              "  </tbody>\n",
              "</table>\n",
              "<p>2121 rows × 1 columns</p>\n",
              "</div>\n",
              "    <div class=\"colab-df-buttons\">\n",
              "\n",
              "  <div class=\"colab-df-container\">\n",
              "    <button class=\"colab-df-convert\" onclick=\"convertToInteractive('df-504ce1d0-b376-438b-b229-2ca7341a6386')\"\n",
              "            title=\"Convert this dataframe to an interactive table.\"\n",
              "            style=\"display:none;\">\n",
              "\n",
              "  <svg xmlns=\"http://www.w3.org/2000/svg\" height=\"24px\" viewBox=\"0 -960 960 960\">\n",
              "    <path d=\"M120-120v-720h720v720H120Zm60-500h600v-160H180v160Zm220 220h160v-160H400v160Zm0 220h160v-160H400v160ZM180-400h160v-160H180v160Zm440 0h160v-160H620v160ZM180-180h160v-160H180v160Zm440 0h160v-160H620v160Z\"/>\n",
              "  </svg>\n",
              "    </button>\n",
              "\n",
              "  <style>\n",
              "    .colab-df-container {\n",
              "      display:flex;\n",
              "      gap: 12px;\n",
              "    }\n",
              "\n",
              "    .colab-df-convert {\n",
              "      background-color: #E8F0FE;\n",
              "      border: none;\n",
              "      border-radius: 50%;\n",
              "      cursor: pointer;\n",
              "      display: none;\n",
              "      fill: #1967D2;\n",
              "      height: 32px;\n",
              "      padding: 0 0 0 0;\n",
              "      width: 32px;\n",
              "    }\n",
              "\n",
              "    .colab-df-convert:hover {\n",
              "      background-color: #E2EBFA;\n",
              "      box-shadow: 0px 1px 2px rgba(60, 64, 67, 0.3), 0px 1px 3px 1px rgba(60, 64, 67, 0.15);\n",
              "      fill: #174EA6;\n",
              "    }\n",
              "\n",
              "    .colab-df-buttons div {\n",
              "      margin-bottom: 4px;\n",
              "    }\n",
              "\n",
              "    [theme=dark] .colab-df-convert {\n",
              "      background-color: #3B4455;\n",
              "      fill: #D2E3FC;\n",
              "    }\n",
              "\n",
              "    [theme=dark] .colab-df-convert:hover {\n",
              "      background-color: #434B5C;\n",
              "      box-shadow: 0px 1px 3px 1px rgba(0, 0, 0, 0.15);\n",
              "      filter: drop-shadow(0px 1px 2px rgba(0, 0, 0, 0.3));\n",
              "      fill: #FFFFFF;\n",
              "    }\n",
              "  </style>\n",
              "\n",
              "    <script>\n",
              "      const buttonEl =\n",
              "        document.querySelector('#df-504ce1d0-b376-438b-b229-2ca7341a6386 button.colab-df-convert');\n",
              "      buttonEl.style.display =\n",
              "        google.colab.kernel.accessAllowed ? 'block' : 'none';\n",
              "\n",
              "      async function convertToInteractive(key) {\n",
              "        const element = document.querySelector('#df-504ce1d0-b376-438b-b229-2ca7341a6386');\n",
              "        const dataTable =\n",
              "          await google.colab.kernel.invokeFunction('convertToInteractive',\n",
              "                                                    [key], {});\n",
              "        if (!dataTable) return;\n",
              "\n",
              "        const docLinkHtml = 'Like what you see? Visit the ' +\n",
              "          '<a target=\"_blank\" href=https://colab.research.google.com/notebooks/data_table.ipynb>data table notebook</a>'\n",
              "          + ' to learn more about interactive tables.';\n",
              "        element.innerHTML = '';\n",
              "        dataTable['output_type'] = 'display_data';\n",
              "        await google.colab.output.renderOutput(dataTable, element);\n",
              "        const docLink = document.createElement('div');\n",
              "        docLink.innerHTML = docLinkHtml;\n",
              "        element.appendChild(docLink);\n",
              "      }\n",
              "    </script>\n",
              "  </div>\n",
              "\n",
              "\n",
              "<div id=\"df-b5600179-9bd5-4bd2-bd3f-f59ff74a64c4\">\n",
              "  <button class=\"colab-df-quickchart\" onclick=\"quickchart('df-b5600179-9bd5-4bd2-bd3f-f59ff74a64c4')\"\n",
              "            title=\"Suggest charts\"\n",
              "            style=\"display:none;\">\n",
              "\n",
              "<svg xmlns=\"http://www.w3.org/2000/svg\" height=\"24px\"viewBox=\"0 0 24 24\"\n",
              "     width=\"24px\">\n",
              "    <g>\n",
              "        <path d=\"M19 3H5c-1.1 0-2 .9-2 2v14c0 1.1.9 2 2 2h14c1.1 0 2-.9 2-2V5c0-1.1-.9-2-2-2zM9 17H7v-7h2v7zm4 0h-2V7h2v10zm4 0h-2v-4h2v4z\"/>\n",
              "    </g>\n",
              "</svg>\n",
              "  </button>\n",
              "\n",
              "<style>\n",
              "  .colab-df-quickchart {\n",
              "      --bg-color: #E8F0FE;\n",
              "      --fill-color: #1967D2;\n",
              "      --hover-bg-color: #E2EBFA;\n",
              "      --hover-fill-color: #174EA6;\n",
              "      --disabled-fill-color: #AAA;\n",
              "      --disabled-bg-color: #DDD;\n",
              "  }\n",
              "\n",
              "  [theme=dark] .colab-df-quickchart {\n",
              "      --bg-color: #3B4455;\n",
              "      --fill-color: #D2E3FC;\n",
              "      --hover-bg-color: #434B5C;\n",
              "      --hover-fill-color: #FFFFFF;\n",
              "      --disabled-bg-color: #3B4455;\n",
              "      --disabled-fill-color: #666;\n",
              "  }\n",
              "\n",
              "  .colab-df-quickchart {\n",
              "    background-color: var(--bg-color);\n",
              "    border: none;\n",
              "    border-radius: 50%;\n",
              "    cursor: pointer;\n",
              "    display: none;\n",
              "    fill: var(--fill-color);\n",
              "    height: 32px;\n",
              "    padding: 0;\n",
              "    width: 32px;\n",
              "  }\n",
              "\n",
              "  .colab-df-quickchart:hover {\n",
              "    background-color: var(--hover-bg-color);\n",
              "    box-shadow: 0 1px 2px rgba(60, 64, 67, 0.3), 0 1px 3px 1px rgba(60, 64, 67, 0.15);\n",
              "    fill: var(--button-hover-fill-color);\n",
              "  }\n",
              "\n",
              "  .colab-df-quickchart-complete:disabled,\n",
              "  .colab-df-quickchart-complete:disabled:hover {\n",
              "    background-color: var(--disabled-bg-color);\n",
              "    fill: var(--disabled-fill-color);\n",
              "    box-shadow: none;\n",
              "  }\n",
              "\n",
              "  .colab-df-spinner {\n",
              "    border: 2px solid var(--fill-color);\n",
              "    border-color: transparent;\n",
              "    border-bottom-color: var(--fill-color);\n",
              "    animation:\n",
              "      spin 1s steps(1) infinite;\n",
              "  }\n",
              "\n",
              "  @keyframes spin {\n",
              "    0% {\n",
              "      border-color: transparent;\n",
              "      border-bottom-color: var(--fill-color);\n",
              "      border-left-color: var(--fill-color);\n",
              "    }\n",
              "    20% {\n",
              "      border-color: transparent;\n",
              "      border-left-color: var(--fill-color);\n",
              "      border-top-color: var(--fill-color);\n",
              "    }\n",
              "    30% {\n",
              "      border-color: transparent;\n",
              "      border-left-color: var(--fill-color);\n",
              "      border-top-color: var(--fill-color);\n",
              "      border-right-color: var(--fill-color);\n",
              "    }\n",
              "    40% {\n",
              "      border-color: transparent;\n",
              "      border-right-color: var(--fill-color);\n",
              "      border-top-color: var(--fill-color);\n",
              "    }\n",
              "    60% {\n",
              "      border-color: transparent;\n",
              "      border-right-color: var(--fill-color);\n",
              "    }\n",
              "    80% {\n",
              "      border-color: transparent;\n",
              "      border-right-color: var(--fill-color);\n",
              "      border-bottom-color: var(--fill-color);\n",
              "    }\n",
              "    90% {\n",
              "      border-color: transparent;\n",
              "      border-bottom-color: var(--fill-color);\n",
              "    }\n",
              "  }\n",
              "</style>\n",
              "\n",
              "  <script>\n",
              "    async function quickchart(key) {\n",
              "      const quickchartButtonEl =\n",
              "        document.querySelector('#' + key + ' button');\n",
              "      quickchartButtonEl.disabled = true;  // To prevent multiple clicks.\n",
              "      quickchartButtonEl.classList.add('colab-df-spinner');\n",
              "      try {\n",
              "        const charts = await google.colab.kernel.invokeFunction(\n",
              "            'suggestCharts', [key], {});\n",
              "      } catch (error) {\n",
              "        console.error('Error during call to suggestCharts:', error);\n",
              "      }\n",
              "      quickchartButtonEl.classList.remove('colab-df-spinner');\n",
              "      quickchartButtonEl.classList.add('colab-df-quickchart-complete');\n",
              "    }\n",
              "    (() => {\n",
              "      let quickchartButtonEl =\n",
              "        document.querySelector('#df-b5600179-9bd5-4bd2-bd3f-f59ff74a64c4 button');\n",
              "      quickchartButtonEl.style.display =\n",
              "        google.colab.kernel.accessAllowed ? 'block' : 'none';\n",
              "    })();\n",
              "  </script>\n",
              "</div>\n",
              "\n",
              "  <div id=\"id_0cf72ff7-e96b-495d-98dd-8150ab5e26b9\">\n",
              "    <style>\n",
              "      .colab-df-generate {\n",
              "        background-color: #E8F0FE;\n",
              "        border: none;\n",
              "        border-radius: 50%;\n",
              "        cursor: pointer;\n",
              "        display: none;\n",
              "        fill: #1967D2;\n",
              "        height: 32px;\n",
              "        padding: 0 0 0 0;\n",
              "        width: 32px;\n",
              "      }\n",
              "\n",
              "      .colab-df-generate:hover {\n",
              "        background-color: #E2EBFA;\n",
              "        box-shadow: 0px 1px 2px rgba(60, 64, 67, 0.3), 0px 1px 3px 1px rgba(60, 64, 67, 0.15);\n",
              "        fill: #174EA6;\n",
              "      }\n",
              "\n",
              "      [theme=dark] .colab-df-generate {\n",
              "        background-color: #3B4455;\n",
              "        fill: #D2E3FC;\n",
              "      }\n",
              "\n",
              "      [theme=dark] .colab-df-generate:hover {\n",
              "        background-color: #434B5C;\n",
              "        box-shadow: 0px 1px 3px 1px rgba(0, 0, 0, 0.15);\n",
              "        filter: drop-shadow(0px 1px 2px rgba(0, 0, 0, 0.3));\n",
              "        fill: #FFFFFF;\n",
              "      }\n",
              "    </style>\n",
              "    <button class=\"colab-df-generate\" onclick=\"generateWithVariable('data_sales')\"\n",
              "            title=\"Generate code using this dataframe.\"\n",
              "            style=\"display:none;\">\n",
              "\n",
              "  <svg xmlns=\"http://www.w3.org/2000/svg\" height=\"24px\"viewBox=\"0 0 24 24\"\n",
              "       width=\"24px\">\n",
              "    <path d=\"M7,19H8.4L18.45,9,17,7.55,7,17.6ZM5,21V16.75L18.45,3.32a2,2,0,0,1,2.83,0l1.4,1.43a1.91,1.91,0,0,1,.58,1.4,1.91,1.91,0,0,1-.58,1.4L9.25,21ZM18.45,9,17,7.55Zm-12,3A5.31,5.31,0,0,0,4.9,8.1,5.31,5.31,0,0,0,1,6.5,5.31,5.31,0,0,0,4.9,4.9,5.31,5.31,0,0,0,6.5,1,5.31,5.31,0,0,0,8.1,4.9,5.31,5.31,0,0,0,12,6.5,5.46,5.46,0,0,0,6.5,12Z\"/>\n",
              "  </svg>\n",
              "    </button>\n",
              "    <script>\n",
              "      (() => {\n",
              "      const buttonEl =\n",
              "        document.querySelector('#id_0cf72ff7-e96b-495d-98dd-8150ab5e26b9 button.colab-df-generate');\n",
              "      buttonEl.style.display =\n",
              "        google.colab.kernel.accessAllowed ? 'block' : 'none';\n",
              "\n",
              "      buttonEl.onclick = () => {\n",
              "        google.colab.notebook.generateWithVariable('data_sales');\n",
              "      }\n",
              "      })();\n",
              "    </script>\n",
              "  </div>\n",
              "\n",
              "    </div>\n",
              "  </div>\n"
            ],
            "application/vnd.google.colaboratory.intrinsic+json": {
              "type": "dataframe",
              "variable_name": "data_sales",
              "summary": "{\n  \"name\": \"data_sales\",\n  \"rows\": 2121,\n  \"fields\": [\n    {\n      \"column\": \"Order Date\",\n      \"properties\": {\n        \"dtype\": \"date\",\n        \"min\": \"2014-01-06 00:00:00\",\n        \"max\": \"2017-12-30 00:00:00\",\n        \"num_unique_values\": 889,\n        \"samples\": [\n          \"2017-12-21 00:00:00\",\n          \"2016-03-08 00:00:00\",\n          \"2017-01-29 00:00:00\"\n        ],\n        \"semantic_type\": \"\",\n        \"description\": \"\"\n      }\n    },\n    {\n      \"column\": \"Sales\",\n      \"properties\": {\n        \"dtype\": \"number\",\n        \"std\": 503.1791448146309,\n        \"min\": 1.892,\n        \"max\": 4416.174,\n        \"num_unique_values\": 1636,\n        \"samples\": [\n          51.756,\n          67.176,\n          383.8\n        ],\n        \"semantic_type\": \"\",\n        \"description\": \"\"\n      }\n    }\n  ]\n}"
            }
          },
          "metadata": {},
          "execution_count": 15
        }
      ]
    },
    {
      "cell_type": "code",
      "source": [
        "data_sales = data_sales['Sales'].resample('MS').mean()"
      ],
      "metadata": {
        "id": "OSuq-2sjqOqb"
      },
      "execution_count": null,
      "outputs": []
    },
    {
      "cell_type": "code",
      "source": [
        "data_sales"
      ],
      "metadata": {
        "colab": {
          "base_uri": "https://localhost:8080/"
        },
        "id": "j2Ba1qlHraOY",
        "outputId": "85bfa3e2-f446-4d22-afce-51db90623ca0"
      },
      "execution_count": null,
      "outputs": [
        {
          "output_type": "execute_result",
          "data": {
            "text/plain": [
              "Order Date\n",
              "2014-01-01    312.126250\n",
              "2014-02-01    262.808286\n",
              "2014-03-01    441.635030\n",
              "2014-04-01    305.570654\n",
              "2014-05-01    288.032792\n",
              "2014-06-01    440.204187\n",
              "2014-07-01    327.910636\n",
              "2014-08-01    305.014437\n",
              "2014-09-01    425.294300\n",
              "2014-10-01    384.507719\n",
              "2014-11-01    347.820527\n",
              "2014-12-01    414.134682\n",
              "2015-01-01    782.662773\n",
              "2015-02-01    284.943091\n",
              "2015-03-01    446.420821\n",
              "2015-04-01    317.445409\n",
              "2015-05-01    312.498350\n",
              "2015-06-01    296.699192\n",
              "2015-07-01    341.860500\n",
              "2015-08-01    301.206006\n",
              "2015-09-01    437.883717\n",
              "2015-10-01    334.072875\n",
              "2015-11-01    401.049773\n",
              "2015-12-01    360.715925\n",
              "2016-01-01    346.488318\n",
              "2016-02-01    206.607947\n",
              "2016-03-01    312.221756\n",
              "2016-04-01    377.488286\n",
              "2016-05-01    351.624070\n",
              "2016-06-01    343.962421\n",
              "2016-07-01    335.090231\n",
              "2016-08-01    430.456286\n",
              "2016-09-01    328.468445\n",
              "2016-10-01    247.345354\n",
              "2016-11-01    392.390479\n",
              "2016-12-01    436.651369\n",
              "2017-01-01    248.501333\n",
              "2017-02-01    264.089900\n",
              "2017-03-01    286.669600\n",
              "2017-04-01    206.044502\n",
              "2017-05-01    319.953928\n",
              "2017-06-01    372.717386\n",
              "2017-07-01    227.173500\n",
              "2017-08-01    395.945487\n",
              "2017-09-01    349.737422\n",
              "2017-10-01    308.226313\n",
              "2017-11-01    374.310253\n",
              "2017-12-01    296.296857\n",
              "Freq: MS, Name: Sales, dtype: float64"
            ]
          },
          "metadata": {},
          "execution_count": 17
        }
      ]
    },
    {
      "cell_type": "code",
      "source": [
        "data_sales.describe()"
      ],
      "metadata": {
        "colab": {
          "base_uri": "https://localhost:8080/"
        },
        "id": "2qatonmvzFF9",
        "outputId": "0832e3aa-0f91-459d-bfb6-377b56f39c95"
      },
      "execution_count": null,
      "outputs": [
        {
          "output_type": "execute_result",
          "data": {
            "text/plain": [
              "count     48.000000\n",
              "mean     346.478737\n",
              "std       89.859062\n",
              "min      206.044502\n",
              "25%      300.079303\n",
              "50%      334.581553\n",
              "75%      386.478409\n",
              "max      782.662773\n",
              "Name: Sales, dtype: float64"
            ]
          },
          "metadata": {},
          "execution_count": 18
        }
      ]
    },
    {
      "cell_type": "code",
      "source": [
        "data_sales.plot(figsize=(15,6))"
      ],
      "metadata": {
        "colab": {
          "base_uri": "https://localhost:8080/",
          "height": 576
        },
        "id": "jGvifcJ823Dw",
        "outputId": "e0e7226c-1233-423f-d324-ca61a7a6db42"
      },
      "execution_count": null,
      "outputs": [
        {
          "output_type": "execute_result",
          "data": {
            "text/plain": [
              "<Axes: xlabel='Order Date'>"
            ]
          },
          "metadata": {},
          "execution_count": 19
        },
        {
          "output_type": "display_data",
          "data": {
            "text/plain": [
              "<Figure size 1500x600 with 1 Axes>"
            ],
            "image/png": "[encoded data removed]"
          },
          "metadata": {}
        }
      ]
    },
    {
      "cell_type": "markdown",
      "source": [
        "Seasonal Decompose"
      ],
      "metadata": {
        "id": "qWRTqSO148Ov"
      }
    },
    {
      "cell_type": "code",
      "source": [
        "from statsmodels.tsa.seasonal import seasonal_decompose"
      ],
      "metadata": {
        "id": "Cg9OxI-I3Pmq"
      },
      "execution_count": null,
      "outputs": []
    },
    {
      "cell_type": "code",
      "source": [
        "series = data_sales\n",
        "result = seasonal_decompose(series, model='additive')\n",
        "print(result.trend)\n",
        "print(result.seasonal)\n",
        "print(result.resid)\n",
        "print(result.observed)"
      ],
      "metadata": {
        "colab": {
          "base_uri": "https://localhost:8080/"
        },
        "id": "_aamucGF5c2E",
        "outputId": "9aff2d93-9329-490c-e273-ae76d4d8e8f9"
      },
      "execution_count": null,
      "outputs": [
        {
          "output_type": "stream",
          "name": "stdout",
          "text": [
            "Order Date\n",
            "2014-01-01           NaN\n",
            "2014-02-01           NaN\n",
            "2014-03-01           NaN\n",
            "2014-04-01           NaN\n",
            "2014-05-01           NaN\n",
            "2014-06-01           NaN\n",
            "2014-07-01    374.193980\n",
            "2014-08-01    394.721952\n",
            "2014-09-01    395.843644\n",
            "2014-10-01    396.537833\n",
            "2014-11-01    398.052013\n",
            "2014-12-01    393.092036\n",
            "2015-01-01    387.693906\n",
            "2015-02-01    388.116466\n",
            "2015-03-01    388.482340\n",
            "2015-04-01    386.905447\n",
            "2015-05-01    387.021881\n",
            "2015-06-01    387.013984\n",
            "2015-07-01    366.614267\n",
            "2015-08-01    345.176367\n",
            "2015-09-01    336.320775\n",
            "2015-10-01    333.230934\n",
            "2015-11-01    337.362959\n",
            "2015-12-01    340.962498\n",
            "2016-01-01    342.649705\n",
            "2016-02-01    347.753039\n",
            "2016-03-01    348.579497\n",
            "2016-04-01    340.406881\n",
            "2016-05-01    336.432430\n",
            "2016-06-01    339.235603\n",
            "2016-07-01    338.316789\n",
            "2016-08-01    336.629079\n",
            "2016-09-01    337.959488\n",
            "2016-10-01    329.751323\n",
            "2016-11-01    321.288243\n",
            "2016-12-01    321.166778\n",
            "2017-01-01    317.868371\n",
            "2017-02-01    311.933890\n",
            "2017-03-01    311.382148\n",
            "2017-04-01    314.805062\n",
            "2017-05-01    316.588426\n",
            "2017-06-01    309.986978\n",
            "2017-07-01           NaN\n",
            "2017-08-01           NaN\n",
            "2017-09-01           NaN\n",
            "2017-10-01           NaN\n",
            "2017-11-01           NaN\n",
            "2017-12-01           NaN\n",
            "Freq: MS, Name: trend, dtype: float64\n",
            "Order Date\n",
            "2014-01-01    110.679166\n",
            "2014-02-01    -96.521800\n",
            "2014-03-01     -0.178251\n",
            "2014-04-01    -46.180712\n",
            "2014-05-01    -17.789778\n",
            "2014-06-01     -6.753504\n",
            "2014-07-01    -23.888871\n",
            "2014-08-01    -12.417871\n",
            "2014-09-01     41.373203\n",
            "2014-10-01    -30.332362\n",
            "2014-11-01     29.051540\n",
            "2014-12-01     52.959240\n",
            "2015-01-01    110.679166\n",
            "2015-02-01    -96.521800\n",
            "2015-03-01     -0.178251\n",
            "2015-04-01    -46.180712\n",
            "2015-05-01    -17.789778\n",
            "2015-06-01     -6.753504\n",
            "2015-07-01    -23.888871\n",
            "2015-08-01    -12.417871\n",
            "2015-09-01     41.373203\n",
            "2015-10-01    -30.332362\n",
            "2015-11-01     29.051540\n",
            "2015-12-01     52.959240\n",
            "2016-01-01    110.679166\n",
            "2016-02-01    -96.521800\n",
            "2016-03-01     -0.178251\n",
            "2016-04-01    -46.180712\n",
            "2016-05-01    -17.789778\n",
            "2016-06-01     -6.753504\n",
            "2016-07-01    -23.888871\n",
            "2016-08-01    -12.417871\n",
            "2016-09-01     41.373203\n",
            "2016-10-01    -30.332362\n",
            "2016-11-01     29.051540\n",
            "2016-12-01     52.959240\n",
            "2017-01-01    110.679166\n",
            "2017-02-01    -96.521800\n",
            "2017-03-01     -0.178251\n",
            "2017-04-01    -46.180712\n",
            "2017-05-01    -17.789778\n",
            "2017-06-01     -6.753504\n",
            "2017-07-01    -23.888871\n",
            "2017-08-01    -12.417871\n",
            "2017-09-01     41.373203\n",
            "2017-10-01    -30.332362\n",
            "2017-11-01     29.051540\n",
            "2017-12-01     52.959240\n",
            "Freq: MS, Name: seasonal, dtype: float64\n",
            "Order Date\n",
            "2014-01-01           NaN\n",
            "2014-02-01           NaN\n",
            "2014-03-01           NaN\n",
            "2014-04-01           NaN\n",
            "2014-05-01           NaN\n",
            "2014-06-01           NaN\n",
            "2014-07-01    -22.394473\n",
            "2014-08-01    -77.289644\n",
            "2014-09-01    -11.922547\n",
            "2014-10-01     18.302248\n",
            "2014-11-01    -79.283025\n",
            "2014-12-01    -31.916594\n",
            "2015-01-01    284.289701\n",
            "2015-02-01     -6.651574\n",
            "2015-03-01     58.116732\n",
            "2015-04-01    -23.279326\n",
            "2015-05-01    -56.733753\n",
            "2015-06-01    -83.561288\n",
            "2015-07-01     -0.864896\n",
            "2015-08-01    -31.552490\n",
            "2015-09-01     60.189738\n",
            "2015-10-01     31.174303\n",
            "2015-11-01     34.635274\n",
            "2015-12-01    -33.205813\n",
            "2016-01-01   -106.840553\n",
            "2016-02-01    -44.623291\n",
            "2016-03-01    -36.179491\n",
            "2016-04-01     83.262117\n",
            "2016-05-01     32.981417\n",
            "2016-06-01     11.480321\n",
            "2016-07-01     20.662313\n",
            "2016-08-01    106.245078\n",
            "2016-09-01    -50.864246\n",
            "2016-10-01    -52.073607\n",
            "2016-11-01     42.050696\n",
            "2016-12-01     62.525352\n",
            "2017-01-01   -180.046204\n",
            "2017-02-01     48.677810\n",
            "2017-03-01    -24.534297\n",
            "2017-04-01    -62.579847\n",
            "2017-05-01     21.155280\n",
            "2017-06-01     69.483912\n",
            "2017-07-01           NaN\n",
            "2017-08-01           NaN\n",
            "2017-09-01           NaN\n",
            "2017-10-01           NaN\n",
            "2017-11-01           NaN\n",
            "2017-12-01           NaN\n",
            "Freq: MS, Name: resid, dtype: float64\n",
            "Order Date\n",
            "2014-01-01    312.126250\n",
            "2014-02-01    262.808286\n",
            "2014-03-01    441.635030\n",
            "2014-04-01    305.570654\n",
            "2014-05-01    288.032792\n",
            "2014-06-01    440.204187\n",
            "2014-07-01    327.910636\n",
            "2014-08-01    305.014437\n",
            "2014-09-01    425.294300\n",
            "2014-10-01    384.507719\n",
            "2014-11-01    347.820527\n",
            "2014-12-01    414.134682\n",
            "2015-01-01    782.662773\n",
            "2015-02-01    284.943091\n",
            "2015-03-01    446.420821\n",
            "2015-04-01    317.445409\n",
            "2015-05-01    312.498350\n",
            "2015-06-01    296.699192\n",
            "2015-07-01    341.860500\n",
            "2015-08-01    301.206006\n",
            "2015-09-01    437.883717\n",
            "2015-10-01    334.072875\n",
            "2015-11-01    401.049773\n",
            "2015-12-01    360.715925\n",
            "2016-01-01    346.488318\n",
            "2016-02-01    206.607947\n",
            "2016-03-01    312.221756\n",
            "2016-04-01    377.488286\n",
            "2016-05-01    351.624070\n",
            "2016-06-01    343.962421\n",
            "2016-07-01    335.090231\n",
            "2016-08-01    430.456286\n",
            "2016-09-01    328.468445\n",
            "2016-10-01    247.345354\n",
            "2016-11-01    392.390479\n",
            "2016-12-01    436.651369\n",
            "2017-01-01    248.501333\n",
            "2017-02-01    264.089900\n",
            "2017-03-01    286.669600\n",
            "2017-04-01    206.044502\n",
            "2017-05-01    319.953928\n",
            "2017-06-01    372.717386\n",
            "2017-07-01    227.173500\n",
            "2017-08-01    395.945487\n",
            "2017-09-01    349.737422\n",
            "2017-10-01    308.226313\n",
            "2017-11-01    374.310253\n",
            "2017-12-01    296.296857\n",
            "Freq: MS, Name: Sales, dtype: float64\n"
          ]
        }
      ]
    },
    {
      "cell_type": "markdown",
      "source": [
        "Plot the seasonal Decompose"
      ],
      "metadata": {
        "id": "EedG6FNI6AX4"
      }
    },
    {
      "cell_type": "code",
      "source": [
        "from statsmodels.tsa.seasonal import seasonal_decompose\n",
        "from matplotlib import pyplot\n",
        "series = data_sales\n",
        "result = seasonal_decompose(series, model='additive')\n",
        "result.plot()\n",
        "plt.show()"
      ],
      "metadata": {
        "colab": {
          "base_uri": "https://localhost:8080/",
          "height": 487
        },
        "id": "Y0YNs3MX55jm",
        "outputId": "36dc61d7-b481-4208-e209-e1c7732bf452"
      },
      "execution_count": null,
      "outputs": [
        {
          "output_type": "display_data",
          "data": {
            "text/plain": [
              "<Figure size 640x480 with 4 Axes>"
            ],
            "image/png": "[encoded data removed]"
          },
          "metadata": {}
        }
      ]
    },
    {
      "cell_type": "markdown",
      "source": [
        "Augmented Dickey Fuller Test"
      ],
      "metadata": {
        "id": "08w7sTZ_9POd"
      }
    },
    {
      "cell_type": "markdown",
      "source": [
        "Null Hypothesis : Data is not stationary\n",
        "Alternate Hypothesis: Data is stationary"
      ],
      "metadata": {
        "id": "dGGs6Rnl9S73"
      }
    },
    {
      "cell_type": "code",
      "source": [
        "adf_test = adfuller(data_sales)\n"
      ],
      "metadata": {
        "id": "HdUOxLyb9FgT"
      },
      "execution_count": null,
      "outputs": []
    },
    {
      "cell_type": "code",
      "source": [
        "adf_test"
      ],
      "metadata": {
        "colab": {
          "base_uri": "https://localhost:8080/"
        },
        "id": "DT20O5tyEUG6",
        "outputId": "66fe7a1c-258a-44c9-cd81-591fb984a6f0"
      },
      "execution_count": null,
      "outputs": [
        {
          "output_type": "execute_result",
          "data": {
            "text/plain": [
              "(-6.962405221214863,\n",
              " 9.09339851000658e-10,\n",
              " 0,\n",
              " 47,\n",
              " {'1%': -3.5778480370438146,\n",
              "  '5%': -2.925338105429433,\n",
              "  '10%': -2.6007735310095064},\n",
              " 446.50775372117755)"
            ]
          },
          "metadata": {},
          "execution_count": 51
        }
      ]
    },
    {
      "cell_type": "code",
      "source": [
        "print(\"ADF Statistics :%f\" %adf_test[0]) #f means float\n",
        "print(\"p-value :%f\" %adf_test[1])"
      ],
      "metadata": {
        "colab": {
          "base_uri": "https://localhost:8080/"
        },
        "id": "BL6NOCRw9p--",
        "outputId": "9cc4d601-b86b-44f4-8ae5-58b904ef0e35"
      },
      "execution_count": null,
      "outputs": [
        {
          "output_type": "stream",
          "name": "stdout",
          "text": [
            "ADF Statistics :-6.962405\n",
            "p-value :0.000000\n"
          ]
        }
      ]
    },
    {
      "cell_type": "markdown",
      "source": [
        "Auto-Correlation Plot"
      ],
      "metadata": {
        "id": "H1-LEGwS_ptm"
      }
    },
    {
      "cell_type": "code",
      "source": [
        "#To check for autocorrelation in data\n",
        "from pandas.plotting import autocorrelation_plot\n",
        "autocorrelation_plot(data_sales)\n",
        "plt.show()"
      ],
      "metadata": {
        "colab": {
          "base_uri": "https://localhost:8080/",
          "height": 455
        },
        "id": "i5vR7LOn_sgZ",
        "outputId": "90941ef5-c2b8-4ef5-8b1b-82ada9ca553d"
      },
      "execution_count": null,
      "outputs": [
        {
          "output_type": "display_data",
          "data": {
            "text/plain": [
              "<Figure size 640x480 with 1 Axes>"
            ],
            "image/png": "[encoded data removed]"
          },
          "metadata": {}
        }
      ]
    },
    {
      "cell_type": "code",
      "source": [
        "#It has little autocorrelation"
      ],
      "metadata": {
        "id": "ytmf2Ao02qjy"
      },
      "execution_count": null,
      "outputs": []
    },
    {
      "cell_type": "markdown",
      "source": [],
      "metadata": {
        "id": "Glv0p9YT2pqp"
      }
    },
    {
      "cell_type": "markdown",
      "source": [
        "Moving Average"
      ],
      "metadata": {
        "id": "sC5gtj_V5bJZ"
      }
    },
    {
      "cell_type": "code",
      "source": [
        "data_sales_MA = data_sales.rolling(window=6).mean()\n",
        "data_sales.plot(figsize=(15,6))\n",
        "data_sales_MA.plot(figsize=(15,6))"
      ],
      "metadata": {
        "colab": {
          "base_uri": "https://localhost:8080/",
          "height": 576
        },
        "id": "GLor_UT6I5Ee",
        "outputId": "80d5b78b-93c6-44c2-a405-c9a71c01b444"
      },
      "execution_count": null,
      "outputs": [
        {
          "output_type": "execute_result",
          "data": {
            "text/plain": [
              "<Axes: xlabel='Order Date'>"
            ]
          },
          "metadata": {},
          "execution_count": 27
        },
        {
          "output_type": "display_data",
          "data": {
            "text/plain": [
              "<Figure size 1500x600 with 1 Axes>"
            ],
            "image/png": "[encoded data removed]"
          },
          "metadata": {}
        }
      ]
    },
    {
      "cell_type": "markdown",
      "source": [
        "Exponential Smoothing"
      ],
      "metadata": {
        "id": "--C8rXiSKTXM"
      }
    },
    {
      "cell_type": "code",
      "source": [
        "from statsmodels.tsa.holtwinters import ExponentialSmoothing,SimpleExpSmoothing, Holt\n",
        "#Simple Exponential Smoothing\n",
        "#fit model\n",
        "model = SimpleExpSmoothing(data_sales)\n",
        "model_fit = model.fit()\n",
        "#make prediction\n",
        "yhat = model_fit.predict(len(data_sales))\n",
        "print(yhat)\n",
        "#plot\n",
        "plt.plot(data_sales)\n",
        "plt.plot(yhat,color='red')\n",
        "plt.show()"
      ],
      "metadata": {
        "colab": {
          "base_uri": "https://localhost:8080/",
          "height": 466
        },
        "id": "FeQTrT5IKXkC",
        "outputId": "eb17c4f9-3a2f-44b5-dd48-b2fe882fb236"
      },
      "execution_count": null,
      "outputs": [
        {
          "output_type": "stream",
          "name": "stdout",
          "text": [
            "2018-01-01    327.218973\n",
            "Freq: MS, dtype: float64\n"
          ]
        },
        {
          "output_type": "display_data",
          "data": {
            "text/plain": [
              "<Figure size 640x480 with 1 Axes>"
            ],
            "image/png": "[encoded data removed]"
          },
          "metadata": {}
        }
      ]
    },
    {
      "cell_type": "code",
      "source": [
        "from statsmodels.tsa.holtwinters import ExponentialSmoothing,SimpleExpSmoothing, Holt\n",
        "#Exponential Smoothing\n",
        "#fit model\n",
        "model = ExponentialSmoothing(data_sales,trend='add',seasonal='add',seasonal_periods=12)\n",
        "model_fit = model.fit()\n",
        "#make prediction\n",
        "yhat = model_fit.predict(len(data_sales))\n",
        "print(yhat)\n",
        "#plot\n",
        "plt.plot(data_sales)\n",
        "plt.plot(yhat, color='red')\n",
        "plt.show()"
      ],
      "metadata": {
        "colab": {
          "base_uri": "https://localhost:8080/",
          "height": 466
        },
        "id": "ZywtUWTzLtfg",
        "outputId": "857becad-ae1c-4928-b3c2-b735c1f3b8b0"
      },
      "execution_count": null,
      "outputs": [
        {
          "output_type": "stream",
          "name": "stdout",
          "text": [
            "2018-01-01    370.132397\n",
            "Freq: MS, dtype: float64\n"
          ]
        },
        {
          "output_type": "display_data",
          "data": {
            "text/plain": [
              "<Figure size 640x480 with 1 Axes>"
            ],
            "image/png": "[encoded data removed]"
          },
          "metadata": {}
        }
      ]
    },
    {
      "cell_type": "markdown",
      "source": [
        "Sarimax Model"
      ],
      "metadata": {
        "id": "ni6KKf3IBV-t"
      }
    },
    {
      "cell_type": "code",
      "source": [
        "import statsmodels.api as sm\n",
        "model = sm.tsa.statespace.SARIMAX(data_sales,order=(3,1,3))\n",
        "results = model.fit()\n"
      ],
      "metadata": {
        "id": "1Se032_EBiMP"
      },
      "execution_count": null,
      "outputs": []
    },
    {
      "cell_type": "code",
      "source": [
        "forecast = results.predict(start='2014-01-01',end='2018-12-01')\n",
        "# We have data from 2014 to 2017 and we are predicting for the 2018(One more year we are forecasting)"
      ],
      "metadata": {
        "id": "mXOWCU00FGJG"
      },
      "execution_count": null,
      "outputs": []
    },
    {
      "cell_type": "code",
      "source": [
        "forecast"
      ],
      "metadata": {
        "colab": {
          "base_uri": "https://localhost:8080/"
        },
        "id": "tNAUsUE7F2sG",
        "outputId": "53b1f95c-7d33-4d0a-f386-a06c50bd7fc1"
      },
      "execution_count": null,
      "outputs": [
        {
          "output_type": "execute_result",
          "data": {
            "text/plain": [
              "2014-01-01      0.000000\n",
              "2014-02-01    309.499503\n",
              "2014-03-01    287.630469\n",
              "2014-04-01    328.364383\n",
              "2014-05-01    330.093316\n",
              "2014-06-01    340.264476\n",
              "2014-07-01    337.296566\n",
              "2014-08-01    327.120297\n",
              "2014-09-01    349.472859\n",
              "2014-10-01    353.040761\n",
              "2014-11-01    342.442390\n",
              "2014-12-01    353.941044\n",
              "2015-01-01    363.649887\n",
              "2015-02-01    382.971618\n",
              "2015-03-01    423.999899\n",
              "2015-04-01    425.153213\n",
              "2015-05-01    340.543557\n",
              "2015-06-01    329.555420\n",
              "2015-07-01    384.659173\n",
              "2015-08-01    396.863037\n",
              "2015-09-01    345.895048\n",
              "2015-10-01    326.517743\n",
              "2015-11-01    381.184923\n",
              "2015-12-01    413.075211\n",
              "2016-01-01    362.513534\n",
              "2016-02-01    327.317630\n",
              "2016-03-01    359.105511\n",
              "2016-04-01    373.898184\n",
              "2016-05-01    340.102050\n",
              "2016-06-01    340.104972\n",
              "2016-07-01    376.169173\n",
              "2016-08-01    377.078805\n",
              "2016-09-01    341.147158\n",
              "2016-10-01    346.826181\n",
              "2016-11-01    378.336588\n",
              "2016-12-01    353.213339\n",
              "2017-01-01    329.881546\n",
              "2017-02-01    373.528851\n",
              "2017-03-01    379.930044\n",
              "2017-04-01    316.348714\n",
              "2017-05-01    301.543332\n",
              "2017-06-01    347.641248\n",
              "2017-07-01    373.953803\n",
              "2017-08-01    353.411145\n",
              "2017-09-01    307.953458\n",
              "2017-10-01    328.374756\n",
              "2017-11-01    387.955985\n",
              "2017-12-01    365.842287\n",
              "2018-01-01    309.850869\n",
              "2018-02-01    317.483905\n",
              "2018-03-01    364.900510\n",
              "2018-04-01    366.732790\n",
              "2018-05-01    329.150434\n",
              "2018-06-01    327.565892\n",
              "2018-07-01    358.188372\n",
              "2018-08-01    359.668135\n",
              "2018-09-01    334.732938\n",
              "2018-10-01    333.375643\n",
              "2018-11-01    353.679154\n",
              "2018-12-01    354.908507\n",
              "Freq: MS, Name: predicted_mean, dtype: float64"
            ]
          },
          "metadata": {},
          "execution_count": 32
        }
      ]
    },
    {
      "cell_type": "code",
      "source": [
        "data_sales"
      ],
      "metadata": {
        "colab": {
          "base_uri": "https://localhost:8080/"
        },
        "id": "277vvfzxGLCZ",
        "outputId": "fc60ac8b-5c08-4538-a71b-2b9a242ccfee"
      },
      "execution_count": null,
      "outputs": [
        {
          "output_type": "execute_result",
          "data": {
            "text/plain": [
              "Order Date\n",
              "2014-01-01    312.126250\n",
              "2014-02-01    262.808286\n",
              "2014-03-01    441.635030\n",
              "2014-04-01    305.570654\n",
              "2014-05-01    288.032792\n",
              "2014-06-01    440.204187\n",
              "2014-07-01    327.910636\n",
              "2014-08-01    305.014437\n",
              "2014-09-01    425.294300\n",
              "2014-10-01    384.507719\n",
              "2014-11-01    347.820527\n",
              "2014-12-01    414.134682\n",
              "2015-01-01    782.662773\n",
              "2015-02-01    284.943091\n",
              "2015-03-01    446.420821\n",
              "2015-04-01    317.445409\n",
              "2015-05-01    312.498350\n",
              "2015-06-01    296.699192\n",
              "2015-07-01    341.860500\n",
              "2015-08-01    301.206006\n",
              "2015-09-01    437.883717\n",
              "2015-10-01    334.072875\n",
              "2015-11-01    401.049773\n",
              "2015-12-01    360.715925\n",
              "2016-01-01    346.488318\n",
              "2016-02-01    206.607947\n",
              "2016-03-01    312.221756\n",
              "2016-04-01    377.488286\n",
              "2016-05-01    351.624070\n",
              "2016-06-01    343.962421\n",
              "2016-07-01    335.090231\n",
              "2016-08-01    430.456286\n",
              "2016-09-01    328.468445\n",
              "2016-10-01    247.345354\n",
              "2016-11-01    392.390479\n",
              "2016-12-01    436.651369\n",
              "2017-01-01    248.501333\n",
              "2017-02-01    264.089900\n",
              "2017-03-01    286.669600\n",
              "2017-04-01    206.044502\n",
              "2017-05-01    319.953928\n",
              "2017-06-01    372.717386\n",
              "2017-07-01    227.173500\n",
              "2017-08-01    395.945487\n",
              "2017-09-01    349.737422\n",
              "2017-10-01    308.226313\n",
              "2017-11-01    374.310253\n",
              "2017-12-01    296.296857\n",
              "Freq: MS, Name: Sales, dtype: float64"
            ]
          },
          "metadata": {},
          "execution_count": 33
        }
      ]
    },
    {
      "cell_type": "markdown",
      "source": [
        "RMSE Calculation"
      ],
      "metadata": {
        "id": "Q1f0e_ofGgFH"
      }
    },
    {
      "cell_type": "code",
      "source": [
        "#Calculate the rmse\n",
        "from sklearn.metrics import mean_squared_error\n",
        "#Give the same length for by indexing\n",
        "actual = data_sales\n",
        "predicted=forecast['2014-01-01':'2017-12-01']"
      ],
      "metadata": {
        "id": "9Kx0-iIDGb5L"
      },
      "execution_count": null,
      "outputs": []
    },
    {
      "cell_type": "markdown",
      "source": [
        "RMSE of the model"
      ],
      "metadata": {
        "id": "qPxtrIyoHEst"
      }
    },
    {
      "cell_type": "code",
      "source": [
        "rmse = np.sqrt(mean_squared_error(actual,predicted))\n",
        "print(\"Root Mean Squared Error\",round(rmse,2))\n",
        "#It means that predicted value is 99 above or below the actual value\n",
        "#Actual value ranges from 0-800"
      ],
      "metadata": {
        "colab": {
          "base_uri": "https://localhost:8080/"
        },
        "id": "fQaNpFRxHB_4",
        "outputId": "f5262f01-6e7b-4a62-873e-95d1b5911ff2"
      },
      "execution_count": null,
      "outputs": [
        {
          "output_type": "stream",
          "name": "stdout",
          "text": [
            "Root Mean Squared Error 99.82\n"
          ]
        }
      ]
    },
    {
      "cell_type": "code",
      "source": [
        "plt.plot(data_sales)\n",
        "plt.plot(forecast)\n",
        "plt.show()\n",
        "#Yellow is our prediction\n",
        "#BLue is actual value\n",
        "#A perfect prediction is where the orange is exactly on top of the blue line\n",
        "#This is somewhat okay"
      ],
      "metadata": {
        "colab": {
          "base_uri": "https://localhost:8080/",
          "height": 430
        },
        "id": "5LdVSEsVHSHm",
        "outputId": "e5332dd2-e9b7-411b-dd13-4e10edb73f74"
      },
      "execution_count": null,
      "outputs": [
        {
          "output_type": "display_data",
          "data": {
            "text/plain": [
              "<Figure size 640x480 with 1 Axes>"
            ],
            "image/png": "[encoded data removed]"
          },
          "metadata": {}
        }
      ]
    },
    {
      "cell_type": "code",
      "source": [
        "# Define range for p, d, q\n",
        "p_values = range(0, 10)\n",
        "d_values = range(0, 10)\n",
        "q_values = range(0, 10)\n",
        "\n",
        "# Initialize variables to store the best parameters\n",
        "best_p, best_d, best_q = None, None, None\n",
        "best_rmse = float('inf')\n",
        "\n",
        "# Loop through all combinations of p, d, q\n",
        "for p in p_values:\n",
        "    for d in d_values:\n",
        "        for q in q_values:\n",
        "            try:\n",
        "                # Define and fit the SARIMAX model\n",
        "                model = SARIMAX(data_sales, order=(p, d, q))\n",
        "                model_fit = model.fit(disp=False)\n",
        "\n",
        "                # Make predictions\n",
        "                forecast = model_fit.predict(start='2014-01-01', end='2017-12-01')\n",
        "\n",
        "                # Calculate RMSE\n",
        "                rmse = np.sqrt(mean_squared_error(data_sales, forecast))\n",
        "\n",
        "                # Check if this is the best combination based on RMSE\n",
        "                if rmse < best_rmse:\n",
        "                    best_rmse = rmse\n",
        "                    best_p, best_d, best_q = p, d, q\n",
        "\n",
        "                print(f'p={p}, d={d}, q={q}, RMSE={rmse}')\n",
        "            except:\n",
        "              continue\n",
        "\n",
        "print(f'Best p, d, q: {best_p}, {best_d}, {best_q} with RMSE: {best_rmse}')"
      ],
      "metadata": {
        "colab": {
          "base_uri": "https://localhost:8080/"
        },
        "id": "R4tGv-A5u-rf",
        "outputId": "f1cf0413-45d2-48b6-ef0a-05d3bec2def1"
      },
      "execution_count": null,
      "outputs": [
        {
          "output_type": "stream",
          "name": "stdout",
          "text": [
            "Best p, d, q: None, None, None with RMSE: inf\n"
          ]
        }
      ]
    },
    {
      "cell_type": "markdown",
      "source": [
        "Prophet"
      ],
      "metadata": {
        "id": "ztmMErE1Je1P"
      }
    },
    {
      "cell_type": "code",
      "source": [
        "from prophet import Prophet"
      ],
      "metadata": {
        "id": "fwPWPspiJgRG"
      },
      "execution_count": null,
      "outputs": []
    },
    {
      "cell_type": "code",
      "source": [
        "df = pd.read_csv('/content/Super_Store.csv',encoding = 'cp1252')"
      ],
      "metadata": {
        "id": "EVoPIr1NJ84N"
      },
      "execution_count": null,
      "outputs": []
    },
    {
      "cell_type": "code",
      "source": [
        "df.info()"
      ],
      "metadata": {
        "colab": {
          "base_uri": "https://localhost:8080/"
        },
        "id": "bg1SGT-9KDe_",
        "outputId": "84fd6d47-20b7-4824-b0cb-4d22c50f6786"
      },
      "execution_count": null,
      "outputs": [
        {
          "output_type": "stream",
          "name": "stdout",
          "text": [
            "<class 'pandas.core.frame.DataFrame'>\n",
            "RangeIndex: 2121 entries, 0 to 2120\n",
            "Data columns (total 21 columns):\n",
            " #   Column         Non-Null Count  Dtype  \n",
            "---  ------         --------------  -----  \n",
            " 0   Row ID         2121 non-null   int64  \n",
            " 1   Order ID       2121 non-null   object \n",
            " 2   Order Date     2121 non-null   object \n",
            " 3   Ship Date      2121 non-null   object \n",
            " 4   Ship Mode      2121 non-null   object \n",
            " 5   Customer ID    2121 non-null   object \n",
            " 6   Customer Name  2121 non-null   object \n",
            " 7   Segment        2121 non-null   object \n",
            " 8   Country        2121 non-null   object \n",
            " 9   City           2121 non-null   object \n",
            " 10  State          2121 non-null   object \n",
            " 11  Postal Code    2121 non-null   int64  \n",
            " 12  Region         2121 non-null   object \n",
            " 13  Product ID     2121 non-null   object \n",
            " 14  Category       2121 non-null   object \n",
            " 15  Sub-Category   2121 non-null   object \n",
            " 16  Product Name   2121 non-null   object \n",
            " 17  Sales          2121 non-null   float64\n",
            " 18  Quantity       2121 non-null   int64  \n",
            " 19  Discount       2121 non-null   float64\n",
            " 20  Profit         2121 non-null   float64\n",
            "dtypes: float64(3), int64(3), object(15)\n",
            "memory usage: 348.1+ KB\n"
          ]
        }
      ]
    },
    {
      "cell_type": "code",
      "source": [
        "cols_select = ['Row ID', 'Order ID', 'Ship Date', 'Ship Mode',\n",
        "       'Customer ID', 'Customer Name', 'Segment', 'Country', 'City', 'State',\n",
        "       'Postal Code', 'Region', 'Product ID', 'Category', 'Sub-Category',\n",
        "       'Product Name', 'Quantity', 'Discount', 'Profit']"
      ],
      "metadata": {
        "id": "C9FEqexfKGwj"
      },
      "execution_count": null,
      "outputs": []
    },
    {
      "cell_type": "code",
      "source": [
        "df = data.drop(cols_select, axis = 1)"
      ],
      "metadata": {
        "id": "3JbiqoDWKUlt"
      },
      "execution_count": null,
      "outputs": []
    },
    {
      "cell_type": "code",
      "source": [
        "df.info()"
      ],
      "metadata": {
        "colab": {
          "base_uri": "https://localhost:8080/"
        },
        "id": "ZYxpt6xMKm8K",
        "outputId": "43d98ef7-9cde-44da-b8b2-5cd8945cef82"
      },
      "execution_count": null,
      "outputs": [
        {
          "output_type": "stream",
          "name": "stdout",
          "text": [
            "<class 'pandas.core.frame.DataFrame'>\n",
            "RangeIndex: 2121 entries, 0 to 2120\n",
            "Data columns (total 2 columns):\n",
            " #   Column      Non-Null Count  Dtype  \n",
            "---  ------      --------------  -----  \n",
            " 0   Order Date  2121 non-null   object \n",
            " 1   Sales       2121 non-null   float64\n",
            "dtypes: float64(1), object(1)\n",
            "memory usage: 33.3+ KB\n"
          ]
        }
      ]
    },
    {
      "cell_type": "code",
      "source": [
        "df = df.sort_values('Order Date')"
      ],
      "metadata": {
        "id": "zTD7zxf-Kpcr"
      },
      "execution_count": null,
      "outputs": []
    },
    {
      "cell_type": "code",
      "source": [
        "df"
      ],
      "metadata": {
        "colab": {
          "base_uri": "https://localhost:8080/",
          "height": 423
        },
        "id": "3OaqTN7pKzqB",
        "outputId": "03828c65-ddf9-4743-93ad-b53f27fc282e"
      },
      "execution_count": null,
      "outputs": [
        {
          "output_type": "execute_result",
          "data": {
            "text/plain": [
              "     Order Date    Sales\n",
              "845    1/1/2017  474.430\n",
              "1707   1/1/2017  141.420\n",
              "1708   1/1/2017  310.744\n",
              "179    1/1/2017   48.896\n",
              "181   1/10/2014   51.940\n",
              "...         ...      ...\n",
              "1524   9/9/2017   66.112\n",
              "1152   9/9/2017  243.920\n",
              "251    9/9/2017   17.024\n",
              "250    9/9/2017  141.372\n",
              "964    9/9/2017   14.136\n",
              "\n",
              "[2121 rows x 2 columns]"
            ],
            "text/html": [
              "\n",
              "  <div id=\"df-cb804419-745e-478a-824c-ea03226a2d93\" class=\"colab-df-container\">\n",
              "    <div>\n",
              "<style scoped>\n",
              "    .dataframe tbody tr th:only-of-type {\n",
              "        vertical-align: middle;\n",
              "    }\n",
              "\n",
              "    .dataframe tbody tr th {\n",
              "        vertical-align: top;\n",
              "    }\n",
              "\n",
              "    .dataframe thead th {\n",
              "        text-align: right;\n",
              "    }\n",
              "</style>\n",
              "<table border=\"1\" class=\"dataframe\">\n",
              "  <thead>\n",
              "    <tr style=\"text-align: right;\">\n",
              "      <th></th>\n",
              "      <th>Order Date</th>\n",
              "      <th>Sales</th>\n",
              "    </tr>\n",
              "  </thead>\n",
              "  <tbody>\n",
              "    <tr>\n",
              "      <th>845</th>\n",
              "      <td>1/1/2017</td>\n",
              "      <td>474.430</td>\n",
              "    </tr>\n",
              "    <tr>\n",
              "      <th>1707</th>\n",
              "      <td>1/1/2017</td>\n",
              "      <td>141.420</td>\n",
              "    </tr>\n",
              "    <tr>\n",
              "      <th>1708</th>\n",
              "      <td>1/1/2017</td>\n",
              "      <td>310.744</td>\n",
              "    </tr>\n",
              "    <tr>\n",
              "      <th>179</th>\n",
              "      <td>1/1/2017</td>\n",
              "      <td>48.896</td>\n",
              "    </tr>\n",
              "    <tr>\n",
              "      <th>181</th>\n",
              "      <td>1/10/2014</td>\n",
              "      <td>51.940</td>\n",
              "    </tr>\n",
              "    <tr>\n",
              "      <th>...</th>\n",
              "      <td>...</td>\n",
              "      <td>...</td>\n",
              "    </tr>\n",
              "    <tr>\n",
              "      <th>1524</th>\n",
              "      <td>9/9/2017</td>\n",
              "      <td>66.112</td>\n",
              "    </tr>\n",
              "    <tr>\n",
              "      <th>1152</th>\n",
              "      <td>9/9/2017</td>\n",
              "      <td>243.920</td>\n",
              "    </tr>\n",
              "    <tr>\n",
              "      <th>251</th>\n",
              "      <td>9/9/2017</td>\n",
              "      <td>17.024</td>\n",
              "    </tr>\n",
              "    <tr>\n",
              "      <th>250</th>\n",
              "      <td>9/9/2017</td>\n",
              "      <td>141.372</td>\n",
              "    </tr>\n",
              "    <tr>\n",
              "      <th>964</th>\n",
              "      <td>9/9/2017</td>\n",
              "      <td>14.136</td>\n",
              "    </tr>\n",
              "  </tbody>\n",
              "</table>\n",
              "<p>2121 rows × 2 columns</p>\n",
              "</div>\n",
              "    <div class=\"colab-df-buttons\">\n",
              "\n",
              "  <div class=\"colab-df-container\">\n",
              "    <button class=\"colab-df-convert\" onclick=\"convertToInteractive('df-cb804419-745e-478a-824c-ea03226a2d93')\"\n",
              "            title=\"Convert this dataframe to an interactive table.\"\n",
              "            style=\"display:none;\">\n",
              "\n",
              "  <svg xmlns=\"http://www.w3.org/2000/svg\" height=\"24px\" viewBox=\"0 -960 960 960\">\n",
              "    <path d=\"M120-120v-720h720v720H120Zm60-500h600v-160H180v160Zm220 220h160v-160H400v160Zm0 220h160v-160H400v160ZM180-400h160v-160H180v160Zm440 0h160v-160H620v160ZM180-180h160v-160H180v160Zm440 0h160v-160H620v160Z\"/>\n",
              "  </svg>\n",
              "    </button>\n",
              "\n",
              "  <style>\n",
              "    .colab-df-container {\n",
              "      display:flex;\n",
              "      gap: 12px;\n",
              "    }\n",
              "\n",
              "    .colab-df-convert {\n",
              "      background-color: #E8F0FE;\n",
              "      border: none;\n",
              "      border-radius: 50%;\n",
              "      cursor: pointer;\n",
              "      display: none;\n",
              "      fill: #1967D2;\n",
              "      height: 32px;\n",
              "      padding: 0 0 0 0;\n",
              "      width: 32px;\n",
              "    }\n",
              "\n",
              "    .colab-df-convert:hover {\n",
              "      background-color: #E2EBFA;\n",
              "      box-shadow: 0px 1px 2px rgba(60, 64, 67, 0.3), 0px 1px 3px 1px rgba(60, 64, 67, 0.15);\n",
              "      fill: #174EA6;\n",
              "    }\n",
              "\n",
              "    .colab-df-buttons div {\n",
              "      margin-bottom: 4px;\n",
              "    }\n",
              "\n",
              "    [theme=dark] .colab-df-convert {\n",
              "      background-color: #3B4455;\n",
              "      fill: #D2E3FC;\n",
              "    }\n",
              "\n",
              "    [theme=dark] .colab-df-convert:hover {\n",
              "      background-color: #434B5C;\n",
              "      box-shadow: 0px 1px 3px 1px rgba(0, 0, 0, 0.15);\n",
              "      filter: drop-shadow(0px 1px 2px rgba(0, 0, 0, 0.3));\n",
              "      fill: #FFFFFF;\n",
              "    }\n",
              "  </style>\n",
              "\n",
              "    <script>\n",
              "      const buttonEl =\n",
              "        document.querySelector('#df-cb804419-745e-478a-824c-ea03226a2d93 button.colab-df-convert');\n",
              "      buttonEl.style.display =\n",
              "        google.colab.kernel.accessAllowed ? 'block' : 'none';\n",
              "\n",
              "      async function convertToInteractive(key) {\n",
              "        const element = document.querySelector('#df-cb804419-745e-478a-824c-ea03226a2d93');\n",
              "        const dataTable =\n",
              "          await google.colab.kernel.invokeFunction('convertToInteractive',\n",
              "                                                    [key], {});\n",
              "        if (!dataTable) return;\n",
              "\n",
              "        const docLinkHtml = 'Like what you see? Visit the ' +\n",
              "          '<a target=\"_blank\" href=https://colab.research.google.com/notebooks/data_table.ipynb>data table notebook</a>'\n",
              "          + ' to learn more about interactive tables.';\n",
              "        element.innerHTML = '';\n",
              "        dataTable['output_type'] = 'display_data';\n",
              "        await google.colab.output.renderOutput(dataTable, element);\n",
              "        const docLink = document.createElement('div');\n",
              "        docLink.innerHTML = docLinkHtml;\n",
              "        element.appendChild(docLink);\n",
              "      }\n",
              "    </script>\n",
              "  </div>\n",
              "\n",
              "\n",
              "<div id=\"df-84eb4933-5ea4-4ab7-bbc1-8f7767005c13\">\n",
              "  <button class=\"colab-df-quickchart\" onclick=\"quickchart('df-84eb4933-5ea4-4ab7-bbc1-8f7767005c13')\"\n",
              "            title=\"Suggest charts\"\n",
              "            style=\"display:none;\">\n",
              "\n",
              "<svg xmlns=\"http://www.w3.org/2000/svg\" height=\"24px\"viewBox=\"0 0 24 24\"\n",
              "     width=\"24px\">\n",
              "    <g>\n",
              "        <path d=\"M19 3H5c-1.1 0-2 .9-2 2v14c0 1.1.9 2 2 2h14c1.1 0 2-.9 2-2V5c0-1.1-.9-2-2-2zM9 17H7v-7h2v7zm4 0h-2V7h2v10zm4 0h-2v-4h2v4z\"/>\n",
              "    </g>\n",
              "</svg>\n",
              "  </button>\n",
              "\n",
              "<style>\n",
              "  .colab-df-quickchart {\n",
              "      --bg-color: #E8F0FE;\n",
              "      --fill-color: #1967D2;\n",
              "      --hover-bg-color: #E2EBFA;\n",
              "      --hover-fill-color: #174EA6;\n",
              "      --disabled-fill-color: #AAA;\n",
              "      --disabled-bg-color: #DDD;\n",
              "  }\n",
              "\n",
              "  [theme=dark] .colab-df-quickchart {\n",
              "      --bg-color: #3B4455;\n",
              "      --fill-color: #D2E3FC;\n",
              "      --hover-bg-color: #434B5C;\n",
              "      --hover-fill-color: #FFFFFF;\n",
              "      --disabled-bg-color: #3B4455;\n",
              "      --disabled-fill-color: #666;\n",
              "  }\n",
              "\n",
              "  .colab-df-quickchart {\n",
              "    background-color: var(--bg-color);\n",
              "    border: none;\n",
              "    border-radius: 50%;\n",
              "    cursor: pointer;\n",
              "    display: none;\n",
              "    fill: var(--fill-color);\n",
              "    height: 32px;\n",
              "    padding: 0;\n",
              "    width: 32px;\n",
              "  }\n",
              "\n",
              "  .colab-df-quickchart:hover {\n",
              "    background-color: var(--hover-bg-color);\n",
              "    box-shadow: 0 1px 2px rgba(60, 64, 67, 0.3), 0 1px 3px 1px rgba(60, 64, 67, 0.15);\n",
              "    fill: var(--button-hover-fill-color);\n",
              "  }\n",
              "\n",
              "  .colab-df-quickchart-complete:disabled,\n",
              "  .colab-df-quickchart-complete:disabled:hover {\n",
              "    background-color: var(--disabled-bg-color);\n",
              "    fill: var(--disabled-fill-color);\n",
              "    box-shadow: none;\n",
              "  }\n",
              "\n",
              "  .colab-df-spinner {\n",
              "    border: 2px solid var(--fill-color);\n",
              "    border-color: transparent;\n",
              "    border-bottom-color: var(--fill-color);\n",
              "    animation:\n",
              "      spin 1s steps(1) infinite;\n",
              "  }\n",
              "\n",
              "  @keyframes spin {\n",
              "    0% {\n",
              "      border-color: transparent;\n",
              "      border-bottom-color: var(--fill-color);\n",
              "      border-left-color: var(--fill-color);\n",
              "    }\n",
              "    20% {\n",
              "      border-color: transparent;\n",
              "      border-left-color: var(--fill-color);\n",
              "      border-top-color: var(--fill-color);\n",
              "    }\n",
              "    30% {\n",
              "      border-color: transparent;\n",
              "      border-left-color: var(--fill-color);\n",
              "      border-top-color: var(--fill-color);\n",
              "      border-right-color: var(--fill-color);\n",
              "    }\n",
              "    40% {\n",
              "      border-color: transparent;\n",
              "      border-right-color: var(--fill-color);\n",
              "      border-top-color: var(--fill-color);\n",
              "    }\n",
              "    60% {\n",
              "      border-color: transparent;\n",
              "      border-right-color: var(--fill-color);\n",
              "    }\n",
              "    80% {\n",
              "      border-color: transparent;\n",
              "      border-right-color: var(--fill-color);\n",
              "      border-bottom-color: var(--fill-color);\n",
              "    }\n",
              "    90% {\n",
              "      border-color: transparent;\n",
              "      border-bottom-color: var(--fill-color);\n",
              "    }\n",
              "  }\n",
              "</style>\n",
              "\n",
              "  <script>\n",
              "    async function quickchart(key) {\n",
              "      const quickchartButtonEl =\n",
              "        document.querySelector('#' + key + ' button');\n",
              "      quickchartButtonEl.disabled = true;  // To prevent multiple clicks.\n",
              "      quickchartButtonEl.classList.add('colab-df-spinner');\n",
              "      try {\n",
              "        const charts = await google.colab.kernel.invokeFunction(\n",
              "            'suggestCharts', [key], {});\n",
              "      } catch (error) {\n",
              "        console.error('Error during call to suggestCharts:', error);\n",
              "      }\n",
              "      quickchartButtonEl.classList.remove('colab-df-spinner');\n",
              "      quickchartButtonEl.classList.add('colab-df-quickchart-complete');\n",
              "    }\n",
              "    (() => {\n",
              "      let quickchartButtonEl =\n",
              "        document.querySelector('#df-84eb4933-5ea4-4ab7-bbc1-8f7767005c13 button');\n",
              "      quickchartButtonEl.style.display =\n",
              "        google.colab.kernel.accessAllowed ? 'block' : 'none';\n",
              "    })();\n",
              "  </script>\n",
              "</div>\n",
              "\n",
              "  <div id=\"id_2bd6462f-efb4-45bf-9606-0037cfc7a651\">\n",
              "    <style>\n",
              "      .colab-df-generate {\n",
              "        background-color: #E8F0FE;\n",
              "        border: none;\n",
              "        border-radius: 50%;\n",
              "        cursor: pointer;\n",
              "        display: none;\n",
              "        fill: #1967D2;\n",
              "        height: 32px;\n",
              "        padding: 0 0 0 0;\n",
              "        width: 32px;\n",
              "      }\n",
              "\n",
              "      .colab-df-generate:hover {\n",
              "        background-color: #E2EBFA;\n",
              "        box-shadow: 0px 1px 2px rgba(60, 64, 67, 0.3), 0px 1px 3px 1px rgba(60, 64, 67, 0.15);\n",
              "        fill: #174EA6;\n",
              "      }\n",
              "\n",
              "      [theme=dark] .colab-df-generate {\n",
              "        background-color: #3B4455;\n",
              "        fill: #D2E3FC;\n",
              "      }\n",
              "\n",
              "      [theme=dark] .colab-df-generate:hover {\n",
              "        background-color: #434B5C;\n",
              "        box-shadow: 0px 1px 3px 1px rgba(0, 0, 0, 0.15);\n",
              "        filter: drop-shadow(0px 1px 2px rgba(0, 0, 0, 0.3));\n",
              "        fill: #FFFFFF;\n",
              "      }\n",
              "    </style>\n",
              "    <button class=\"colab-df-generate\" onclick=\"generateWithVariable('df')\"\n",
              "            title=\"Generate code using this dataframe.\"\n",
              "            style=\"display:none;\">\n",
              "\n",
              "  <svg xmlns=\"http://www.w3.org/2000/svg\" height=\"24px\"viewBox=\"0 0 24 24\"\n",
              "       width=\"24px\">\n",
              "    <path d=\"M7,19H8.4L18.45,9,17,7.55,7,17.6ZM5,21V16.75L18.45,3.32a2,2,0,0,1,2.83,0l1.4,1.43a1.91,1.91,0,0,1,.58,1.4,1.91,1.91,0,0,1-.58,1.4L9.25,21ZM18.45,9,17,7.55Zm-12,3A5.31,5.31,0,0,0,4.9,8.1,5.31,5.31,0,0,0,1,6.5,5.31,5.31,0,0,0,4.9,4.9,5.31,5.31,0,0,0,6.5,1,5.31,5.31,0,0,0,8.1,4.9,5.31,5.31,0,0,0,12,6.5,5.46,5.46,0,0,0,6.5,12Z\"/>\n",
              "  </svg>\n",
              "    </button>\n",
              "    <script>\n",
              "      (() => {\n",
              "      const buttonEl =\n",
              "        document.querySelector('#id_2bd6462f-efb4-45bf-9606-0037cfc7a651 button.colab-df-generate');\n",
              "      buttonEl.style.display =\n",
              "        google.colab.kernel.accessAllowed ? 'block' : 'none';\n",
              "\n",
              "      buttonEl.onclick = () => {\n",
              "        google.colab.notebook.generateWithVariable('df');\n",
              "      }\n",
              "      })();\n",
              "    </script>\n",
              "  </div>\n",
              "\n",
              "    </div>\n",
              "  </div>\n"
            ],
            "application/vnd.google.colaboratory.intrinsic+json": {
              "type": "dataframe",
              "variable_name": "df",
              "summary": "{\n  \"name\": \"df\",\n  \"rows\": 2121,\n  \"fields\": [\n    {\n      \"column\": \"Order Date\",\n      \"properties\": {\n        \"dtype\": \"object\",\n        \"num_unique_values\": 889,\n        \"samples\": [\n          \"12/21/2017\",\n          \"3/8/2016\",\n          \"1/29/2017\"\n        ],\n        \"semantic_type\": \"\",\n        \"description\": \"\"\n      }\n    },\n    {\n      \"column\": \"Sales\",\n      \"properties\": {\n        \"dtype\": \"number\",\n        \"std\": 503.1791448146309,\n        \"min\": 1.892,\n        \"max\": 4416.174,\n        \"num_unique_values\": 1636,\n        \"samples\": [\n          51.756,\n          67.176,\n          383.8\n        ],\n        \"semantic_type\": \"\",\n        \"description\": \"\"\n      }\n    }\n  ]\n}"
            }
          },
          "metadata": {},
          "execution_count": 45
        }
      ]
    },
    {
      "cell_type": "code",
      "source": [
        "df['Order Date']=pd.to_datetime(df['Order Date'])"
      ],
      "metadata": {
        "id": "taDSVOSkLFIt"
      },
      "execution_count": null,
      "outputs": []
    },
    {
      "cell_type": "code",
      "source": [
        "df = df.sort_values('Order Date')\n",
        "df = df.groupby('Order Date')['Sales'].mean()"
      ],
      "metadata": {
        "id": "Y8nWBZ0hLOft"
      },
      "execution_count": null,
      "outputs": []
    },
    {
      "cell_type": "code",
      "source": [
        "df.describe()"
      ],
      "metadata": {
        "colab": {
          "base_uri": "https://localhost:8080/"
        },
        "id": "uBMVj1mJL_cx",
        "outputId": "53c6a1fe-7290-4961-e3f2-a1d462927dde"
      },
      "execution_count": null,
      "outputs": [
        {
          "output_type": "execute_result",
          "data": {
            "text/plain": [
              "count     889.000000\n",
              "mean      345.338513\n",
              "std       386.622612\n",
              "min         1.988000\n",
              "25%       107.502000\n",
              "50%       240.728400\n",
              "75%       435.999000\n",
              "max      4297.644000\n",
              "Name: Sales, dtype: float64"
            ]
          },
          "metadata": {},
          "execution_count": 48
        }
      ]
    },
    {
      "cell_type": "code",
      "source": [
        "m = Prophet()\n",
        "m.fit(df)"
      ],
      "metadata": {
        "id": "ePVq-_yi56Yf"
      },
      "execution_count": null,
      "outputs": []
    }
  ]
}